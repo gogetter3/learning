{
 "cells": [
  {
   "cell_type": "code",
   "execution_count": 120,
   "id": "ccbfe976",
   "metadata": {},
   "outputs": [],
   "source": [
    "import numpy as np\n",
    "import pandas as pd\n",
    "from tqdm import tqdm\n",
    "from scipy import stats\n",
    "import scipy\n",
    "from statsmodels.sandbox.stats.multicomp import multipletests"
   ]
  },
  {
   "cell_type": "code",
   "execution_count": 48,
   "id": "95ae03f2",
   "metadata": {},
   "outputs": [
    {
     "name": "stdout",
     "output_type": "stream",
     "text": [
      "Populating the interactive namespace from numpy and matplotlib\n"
     ]
    },
    {
     "name": "stderr",
     "output_type": "stream",
     "text": [
      "/Users/admin/anaconda3/envs/data/lib/python3.8/site-packages/IPython/core/magics/pylab.py:159: UserWarning: pylab import has clobbered these variables: ['exp']\n",
      "`%matplotlib` prevents importing * from pylab and numpy\n",
      "  warn(\"pylab import has clobbered these variables: %s\"  % clobbered +\n"
     ]
    }
   ],
   "source": [
    "%pylab inline"
   ]
  },
  {
   "cell_type": "code",
   "execution_count": 3,
   "id": "f56db580",
   "metadata": {},
   "outputs": [],
   "source": [
    "data = pd.read_csv('ab_browser_test.csv')"
   ]
  },
  {
   "cell_type": "code",
   "execution_count": 4,
   "id": "3129d623",
   "metadata": {},
   "outputs": [
    {
     "data": {
      "text/html": [
       "<div>\n",
       "<style scoped>\n",
       "    .dataframe tbody tr th:only-of-type {\n",
       "        vertical-align: middle;\n",
       "    }\n",
       "\n",
       "    .dataframe tbody tr th {\n",
       "        vertical-align: top;\n",
       "    }\n",
       "\n",
       "    .dataframe thead th {\n",
       "        text-align: right;\n",
       "    }\n",
       "</style>\n",
       "<table border=\"1\" class=\"dataframe\">\n",
       "  <thead>\n",
       "    <tr style=\"text-align: right;\">\n",
       "      <th></th>\n",
       "      <th>userID</th>\n",
       "      <th>browser</th>\n",
       "      <th>slot</th>\n",
       "      <th>n_clicks</th>\n",
       "      <th>n_queries</th>\n",
       "      <th>n_nonclk_queries</th>\n",
       "    </tr>\n",
       "  </thead>\n",
       "  <tbody>\n",
       "    <tr>\n",
       "      <th>0</th>\n",
       "      <td>1</td>\n",
       "      <td>Browser #2</td>\n",
       "      <td>exp</td>\n",
       "      <td>23</td>\n",
       "      <td>32</td>\n",
       "      <td>19</td>\n",
       "    </tr>\n",
       "    <tr>\n",
       "      <th>1</th>\n",
       "      <td>3</td>\n",
       "      <td>Browser #4</td>\n",
       "      <td>exp</td>\n",
       "      <td>3</td>\n",
       "      <td>4</td>\n",
       "      <td>2</td>\n",
       "    </tr>\n",
       "    <tr>\n",
       "      <th>2</th>\n",
       "      <td>5</td>\n",
       "      <td>Browser #4</td>\n",
       "      <td>exp</td>\n",
       "      <td>29</td>\n",
       "      <td>35</td>\n",
       "      <td>16</td>\n",
       "    </tr>\n",
       "    <tr>\n",
       "      <th>3</th>\n",
       "      <td>6</td>\n",
       "      <td>Browser #4</td>\n",
       "      <td>control</td>\n",
       "      <td>12</td>\n",
       "      <td>6</td>\n",
       "      <td>0</td>\n",
       "    </tr>\n",
       "    <tr>\n",
       "      <th>4</th>\n",
       "      <td>7</td>\n",
       "      <td>Browser #4</td>\n",
       "      <td>exp</td>\n",
       "      <td>54</td>\n",
       "      <td>68</td>\n",
       "      <td>30</td>\n",
       "    </tr>\n",
       "    <tr>\n",
       "      <th>...</th>\n",
       "      <td>...</td>\n",
       "      <td>...</td>\n",
       "      <td>...</td>\n",
       "      <td>...</td>\n",
       "      <td>...</td>\n",
       "      <td>...</td>\n",
       "    </tr>\n",
       "    <tr>\n",
       "      <th>566129</th>\n",
       "      <td>603133</td>\n",
       "      <td>Browser #14</td>\n",
       "      <td>control</td>\n",
       "      <td>1</td>\n",
       "      <td>2</td>\n",
       "      <td>1</td>\n",
       "    </tr>\n",
       "    <tr>\n",
       "      <th>566130</th>\n",
       "      <td>603134</td>\n",
       "      <td>Browser #2</td>\n",
       "      <td>exp</td>\n",
       "      <td>4</td>\n",
       "      <td>2</td>\n",
       "      <td>0</td>\n",
       "    </tr>\n",
       "    <tr>\n",
       "      <th>566131</th>\n",
       "      <td>603135</td>\n",
       "      <td>Browser #4</td>\n",
       "      <td>control</td>\n",
       "      <td>0</td>\n",
       "      <td>1</td>\n",
       "      <td>1</td>\n",
       "    </tr>\n",
       "    <tr>\n",
       "      <th>566132</th>\n",
       "      <td>603136</td>\n",
       "      <td>Browser #4</td>\n",
       "      <td>control</td>\n",
       "      <td>2</td>\n",
       "      <td>3</td>\n",
       "      <td>1</td>\n",
       "    </tr>\n",
       "    <tr>\n",
       "      <th>566133</th>\n",
       "      <td>603137</td>\n",
       "      <td>Browser #2</td>\n",
       "      <td>exp</td>\n",
       "      <td>3</td>\n",
       "      <td>1</td>\n",
       "      <td>0</td>\n",
       "    </tr>\n",
       "  </tbody>\n",
       "</table>\n",
       "<p>566134 rows × 6 columns</p>\n",
       "</div>"
      ],
      "text/plain": [
       "        userID      browser     slot  n_clicks  n_queries  n_nonclk_queries\n",
       "0            1   Browser #2      exp        23         32                19\n",
       "1            3   Browser #4      exp         3          4                 2\n",
       "2            5   Browser #4      exp        29         35                16\n",
       "3            6   Browser #4  control        12          6                 0\n",
       "4            7   Browser #4      exp        54         68                30\n",
       "...        ...          ...      ...       ...        ...               ...\n",
       "566129  603133  Browser #14  control         1          2                 1\n",
       "566130  603134   Browser #2      exp         4          2                 0\n",
       "566131  603135   Browser #4  control         0          1                 1\n",
       "566132  603136   Browser #4  control         2          3                 1\n",
       "566133  603137   Browser #2      exp         3          1                 0\n",
       "\n",
       "[566134 rows x 6 columns]"
      ]
     },
     "execution_count": 4,
     "metadata": {},
     "output_type": "execute_result"
    }
   ],
   "source": [
    "data"
   ]
  },
  {
   "cell_type": "code",
   "execution_count": 11,
   "id": "139dab19",
   "metadata": {},
   "outputs": [
    {
     "data": {
      "text/plain": [
       "1.6135689824415809"
      ]
     },
     "execution_count": 11,
     "metadata": {},
     "output_type": "execute_result"
    }
   ],
   "source": [
    "(sum(data[data.slot == 'exp'].n_clicks) - sum(data[data.slot == 'control'].n_clicks)) / \\\n",
    "sum(data[data.slot == 'control'].n_clicks) * 100"
   ]
  },
  {
   "cell_type": "code",
   "execution_count": 22,
   "id": "f410f1e5",
   "metadata": {},
   "outputs": [],
   "source": [
    "def get_bootstrap_samples(data, n_samples):\n",
    "    indices = np.random.randint(0, len(data), (n_samples, len(data)))\n",
    "    samples = data[indices]\n",
    "    return samples"
   ]
  },
  {
   "cell_type": "code",
   "execution_count": 13,
   "id": "501e2d04",
   "metadata": {},
   "outputs": [],
   "source": [
    "def stat_intervals(stat, alpha):\n",
    "    boundaries = np.percentile(stat, [100 * alpha / 2., 100 * (1 - alpha / 2.)])\n",
    "    return boundaries"
   ]
  },
  {
   "cell_type": "code",
   "execution_count": 24,
   "id": "ceedba6b",
   "metadata": {},
   "outputs": [],
   "source": [
    "exp = list(map(np.median, get_bootstrap_samples(data[data.slot == 'exp'].n_clicks.values, 1000)))\n",
    "con = list(map(np.median, get_bootstrap_samples(data[data.slot == 'control'].n_clicks.values, 1000)))"
   ]
  },
  {
   "cell_type": "code",
   "execution_count": 32,
   "id": "05dff5d2",
   "metadata": {},
   "outputs": [
    {
     "data": {
      "text/plain": [
       "array([-1., -1.])"
      ]
     },
     "execution_count": 32,
     "metadata": {},
     "output_type": "execute_result"
    }
   ],
   "source": [
    "stat_intervals(np.array(con) - np.array(exp), 0.05)"
   ]
  },
  {
   "cell_type": "code",
   "execution_count": 34,
   "id": "9b02ce04",
   "metadata": {},
   "outputs": [],
   "source": [
    "sexp = list(map(np.mean, get_bootstrap_samples(data[data.slot == 'exp'].n_clicks.values, 1000)))\n",
    "scon = list(map(np.mean, get_bootstrap_samples(data[data.slot == 'control'].n_clicks.values, 1000)))"
   ]
  },
  {
   "cell_type": "code",
   "execution_count": 35,
   "id": "ebcccf0c",
   "metadata": {},
   "outputs": [
    {
     "data": {
      "text/plain": [
       "array([-0.40555733, -0.19936073])"
      ]
     },
     "execution_count": 35,
     "metadata": {},
     "output_type": "execute_result"
    }
   ],
   "source": [
    "stat_intervals(np.array(scon) - np.array(sexp), 0.05)"
   ]
  },
  {
   "cell_type": "code",
   "execution_count": 40,
   "id": "f184ae82",
   "metadata": {},
   "outputs": [],
   "source": [
    "np.random.seed(0)\n",
    "samp = get_bootstrap_samples(data[data.slot == 'control'].n_clicks.values, 500)"
   ]
  },
  {
   "cell_type": "code",
   "execution_count": 41,
   "id": "a8fa71a8",
   "metadata": {},
   "outputs": [],
   "source": [
    "means = list(map(np.mean, samp))"
   ]
  },
  {
   "cell_type": "code",
   "execution_count": 46,
   "id": "1e4a9090",
   "metadata": {},
   "outputs": [
    {
     "name": "stderr",
     "output_type": "stream",
     "text": [
      "100%|██████████| 500/500 [04:55<00:00,  1.69it/s]\n"
     ]
    }
   ],
   "source": [
    "otc = []\n",
    "for i in tqdm(range(len(samp))):\n",
    "    otc.append(sum([(el-means[i])**2 for el in samp[i]]))"
   ]
  },
  {
   "cell_type": "code",
   "execution_count": 50,
   "id": "4a441556",
   "metadata": {},
   "outputs": [
    {
     "data": {
      "text/plain": [
       "((array([496.00790142, 496.28984073, 496.44837459, 496.56078615,\n",
       "         496.64886689, 496.72177909, 496.78427733, 496.83915848,\n",
       "         496.88821233, 496.93265597, 496.97335597, 497.01095206,\n",
       "         497.04593046, 497.07866967, 497.10947035, 497.13857541,\n",
       "         497.16618407, 497.1924618 , 497.2175476 , 497.24155939,\n",
       "         497.26459814, 497.28675096, 497.30809357, 497.3286922 ,\n",
       "         497.34860517, 497.36788405, 497.38657472, 497.40471817,\n",
       "         497.42235117, 497.43950686, 497.45621519, 497.47250333,\n",
       "         497.48839601, 497.50391582, 497.51908341, 497.53391776,\n",
       "         497.54843633, 497.56265521, 497.57658929, 497.59025236,\n",
       "         497.60365721, 497.61681574, 497.62973905, 497.64243747,\n",
       "         497.65492068, 497.66719774, 497.67927713, 497.69116683,\n",
       "         497.70287433, 497.71440669, 497.72577056, 497.73697222,\n",
       "         497.74801761, 497.75891232, 497.76966169, 497.78027074,\n",
       "         497.79074426, 497.80108678, 497.81130262, 497.82139589,\n",
       "         497.8313705 , 497.84123017, 497.85097846, 497.86061877,\n",
       "         497.87015434, 497.87958827, 497.88892352, 497.89816293,\n",
       "         497.90730923, 497.91636502, 497.92533281, 497.93421499,\n",
       "         497.94301388, 497.95173169, 497.96037054, 497.9689325 ,\n",
       "         497.97741954, 497.98583355, 497.99417636, 498.00244975,\n",
       "         498.01065542, 498.018795  , 498.0268701 , 498.03488223,\n",
       "         498.04283288, 498.05072347, 498.05855541, 498.06633002,\n",
       "         498.0740486 , 498.0817124 , 498.08932265, 498.09688051,\n",
       "         498.10438714, 498.11184363, 498.11925107, 498.1266105 ,\n",
       "         498.13392292, 498.14118932, 498.14841066, 498.15558786,\n",
       "         498.16272182, 498.16981342, 498.17686352, 498.18387294,\n",
       "         498.19084249, 498.19777295, 498.20466509, 498.21151966,\n",
       "         498.21833739, 498.22511897, 498.2318651 , 498.23857645,\n",
       "         498.24525368, 498.25189743, 498.25850831, 498.26508696,\n",
       "         498.27163394, 498.27814986, 498.28463527, 498.29109073,\n",
       "         498.29751678, 498.30391396, 498.31028277, 498.31662373,\n",
       "         498.32293733, 498.32922406, 498.33548438, 498.34171877,\n",
       "         498.34792768, 498.35411155, 498.36027083, 498.36640592,\n",
       "         498.37251726, 498.37860526, 498.38467031, 498.39071281,\n",
       "         498.39673314, 498.40273169, 498.40870883, 498.41466491,\n",
       "         498.4206003 , 498.42651535, 498.4324104 , 498.43828579,\n",
       "         498.44414186, 498.44997892, 498.45579731, 498.46159733,\n",
       "         498.46737929, 498.4731435 , 498.47889026, 498.48461986,\n",
       "         498.4903326 , 498.49602874, 498.50170858, 498.50737239,\n",
       "         498.51302045, 498.51865301, 498.52427034, 498.5298727 ,\n",
       "         498.53546034, 498.54103351, 498.54659247, 498.55213745,\n",
       "         498.55766869, 498.56318643, 498.56869091, 498.57418235,\n",
       "         498.57966098, 498.58512702, 498.59058069, 498.59602221,\n",
       "         498.6014518 , 498.60686966, 498.61227601, 498.61767105,\n",
       "         498.62305498, 498.62842801, 498.63379033, 498.63914214,\n",
       "         498.64448364, 498.64981501, 498.65513645, 498.66044814,\n",
       "         498.66575027, 498.67104302, 498.67632656, 498.68160109,\n",
       "         498.68686678, 498.69212379, 498.69737231, 498.70261251,\n",
       "         498.70784456, 498.71306862, 498.71828486, 498.72349344,\n",
       "         498.72869454, 498.7338883 , 498.7390749 , 498.74425449,\n",
       "         498.74942723, 498.75459327, 498.75975277, 498.76490588,\n",
       "         498.77005275, 498.77519355, 498.7803284 , 498.78545748,\n",
       "         498.79058091, 498.79569885, 498.80081145, 498.80591885,\n",
       "         498.81102118, 498.81611861, 498.82121126, 498.82629927,\n",
       "         498.8313828 , 498.83646197, 498.84153692, 498.8466078 ,\n",
       "         498.85167473, 498.85673787, 498.86179733, 498.86685325,\n",
       "         498.87190577, 498.87695503, 498.88200115, 498.88704427,\n",
       "         498.89208452, 498.89712202, 498.90215692, 498.90718934,\n",
       "         498.91221941, 498.91724726, 498.92227301, 498.92729681,\n",
       "         498.93231877, 498.93733902, 498.9423577 , 498.94737492,\n",
       "         498.95239083, 498.95740553, 498.96241916, 498.96743185,\n",
       "         498.97244372, 498.97745489, 498.9824655 , 498.98747567,\n",
       "         498.99248553, 498.9974952 , 499.0025048 , 499.00751447,\n",
       "         499.01252433, 499.0175345 , 499.02254511, 499.02755628,\n",
       "         499.03256815, 499.03758084, 499.04259447, 499.04760917,\n",
       "         499.05262508, 499.0576423 , 499.06266098, 499.06768123,\n",
       "         499.07270319, 499.07772699, 499.08275274, 499.08778059,\n",
       "         499.09281066, 499.09784308, 499.10287798, 499.10791548,\n",
       "         499.11295573, 499.11799885, 499.12304497, 499.12809423,\n",
       "         499.13314675, 499.13820267, 499.14326213, 499.14832527,\n",
       "         499.1533922 , 499.15846308, 499.16353803, 499.1686172 ,\n",
       "         499.17370073, 499.17878874, 499.18388139, 499.18897882,\n",
       "         499.19408115, 499.19918855, 499.20430115, 499.20941909,\n",
       "         499.21454252, 499.2196716 , 499.22480645, 499.22994725,\n",
       "         499.23509412, 499.24024723, 499.24540673, 499.25057277,\n",
       "         499.25574551, 499.2609251 , 499.2661117 , 499.27130546,\n",
       "         499.27650656, 499.28171514, 499.28693138, 499.29215544,\n",
       "         499.29738749, 499.30262769, 499.30787621, 499.31313322,\n",
       "         499.31839891, 499.32367344, 499.32895698, 499.33424973,\n",
       "         499.33955186, 499.34486355, 499.35018499, 499.35551636,\n",
       "         499.36085786, 499.36620967, 499.37157199, 499.37694502,\n",
       "         499.38232895, 499.38772399, 499.39313034, 499.3985482 ,\n",
       "         499.40397779, 499.40941931, 499.41487298, 499.42033902,\n",
       "         499.42581765, 499.43130909, 499.43681357, 499.44233131,\n",
       "         499.44786255, 499.45340753, 499.45896649, 499.46453966,\n",
       "         499.4701273 , 499.47572966, 499.48134699, 499.48697955,\n",
       "         499.49262761, 499.49829142, 499.50397126, 499.5096674 ,\n",
       "         499.51538014, 499.52110974, 499.5268565 , 499.53262071,\n",
       "         499.53840267, 499.54420269, 499.55002108, 499.55585814,\n",
       "         499.56171421, 499.5675896 , 499.57348465, 499.5793997 ,\n",
       "         499.58533509, 499.59129117, 499.59726831, 499.60326686,\n",
       "         499.60928719, 499.61532969, 499.62139474, 499.62748274,\n",
       "         499.63359408, 499.63972917, 499.64588845, 499.65207232,\n",
       "         499.65828123, 499.66451562, 499.67077594, 499.67706267,\n",
       "         499.68337627, 499.68971723, 499.69608604, 499.70248322,\n",
       "         499.70890927, 499.71536473, 499.72185014, 499.72836606,\n",
       "         499.73491304, 499.74149169, 499.74810257, 499.75474632,\n",
       "         499.76142355, 499.7681349 , 499.77488103, 499.78166261,\n",
       "         499.78848034, 499.79533491, 499.80222705, 499.80915751,\n",
       "         499.81612706, 499.82313648, 499.83018658, 499.83727818,\n",
       "         499.84441214, 499.85158934, 499.85881068, 499.86607708,\n",
       "         499.8733895 , 499.88074893, 499.88815637, 499.89561286,\n",
       "         499.90311949, 499.91067735, 499.9182876 , 499.9259514 ,\n",
       "         499.93366998, 499.94144459, 499.94927653, 499.95716712,\n",
       "         499.96511777, 499.9731299 , 499.981205  , 499.98934458,\n",
       "         499.99755025, 500.00582364, 500.01416645, 500.02258046,\n",
       "         500.0310675 , 500.03962946, 500.04826831, 500.05698612,\n",
       "         500.06578501, 500.07466719, 500.08363498, 500.09269077,\n",
       "         500.10183707, 500.11107648, 500.12041173, 500.12984566,\n",
       "         500.13938123, 500.14902154, 500.15876983, 500.1686295 ,\n",
       "         500.17860411, 500.18869738, 500.19891322, 500.20925574,\n",
       "         500.21972926, 500.23033831, 500.24108768, 500.25198239,\n",
       "         500.26302778, 500.27422944, 500.28559331, 500.29712567,\n",
       "         500.30883317, 500.32072287, 500.33280226, 500.34507932,\n",
       "         500.35756253, 500.37026095, 500.38318426, 500.39634279,\n",
       "         500.40974764, 500.42341071, 500.43734479, 500.45156367,\n",
       "         500.46608224, 500.48091659, 500.49608418, 500.51160399,\n",
       "         500.52749667, 500.54378481, 500.56049314, 500.57764883,\n",
       "         500.59528183, 500.61342528, 500.63211595, 500.65139483,\n",
       "         500.6713078 , 500.69190643, 500.71324904, 500.73540186,\n",
       "         500.75844061, 500.7824524 , 500.8075382 , 500.83381593,\n",
       "         500.86142459, 500.89052965, 500.92133033, 500.95406954,\n",
       "         500.98904794, 501.02664403, 501.06734403, 501.11178767,\n",
       "         501.16084152, 501.21572267, 501.27822091, 501.35113311,\n",
       "         501.43921385, 501.55162541, 501.71015927, 501.99209858]),\n",
       "  array([11.1824434 , 11.18473822, 11.18830521, 11.19382261, 11.20258369,\n",
       "         11.20325492, 11.20355363, 11.20505423, 11.20609094, 11.20625611,\n",
       "         11.2079043 , 11.21138343, 11.21287699, 11.21341468, 11.2142827 ,\n",
       "         11.21573761, 11.21579735, 11.21644749, 11.21674621, 11.21906563,\n",
       "         11.21948031, 11.21979308, 11.22034833, 11.22213007, 11.22245338,\n",
       "         11.22327924, 11.22662131, 11.22713439, 11.22731011, 11.22771776,\n",
       "         11.22815002, 11.22822382, 11.2283187 , 11.22885287, 11.22957681,\n",
       "         11.22997744, 11.23038158, 11.23081032, 11.23154129, 11.23157292,\n",
       "         11.23189623, 11.23309108, 11.23465845, 11.23483065, 11.23608524,\n",
       "         11.23640153, 11.23664401, 11.23698138, 11.23704112, 11.23742769,\n",
       "         11.23755772, 11.23802863, 11.23852766, 11.23865417, 11.23902669,\n",
       "         11.23916726, 11.23991228, 11.23992283, 11.24141639, 11.24158508,\n",
       "         11.24160968, 11.24163779, 11.24169753, 11.24231605, 11.24278344,\n",
       "         11.24281859, 11.24329653, 11.24353901, 11.24396424, 11.24425592,\n",
       "         11.24438244, 11.24446327, 11.24460384, 11.24470224, 11.24473035,\n",
       "         11.24482172, 11.24492715, 11.24534183, 11.24545078, 11.24585492,\n",
       "         11.24586195, 11.24649803, 11.24708843, 11.2472782 , 11.24735551,\n",
       "         11.24748202, 11.2476472 , 11.24791779, 11.24809351, 11.24811811,\n",
       "         11.24844845, 11.24918996, 11.2492497 , 11.2493727 , 11.25008259,\n",
       "         11.25017747, 11.25060621, 11.25065541, 11.25088735, 11.2511193 ,\n",
       "         11.25147775, 11.25171321, 11.25188541, 11.25189244, 11.25201895,\n",
       "         11.25222981, 11.25248986, 11.25299943, 11.25305566, 11.25328409,\n",
       "         11.25384637, 11.25398343, 11.2544684 , 11.25458085, 11.25487605,\n",
       "         11.25488659, 11.25505528, 11.25508691, 11.25525559, 11.25577219,\n",
       "         11.25590925, 11.25621147, 11.2565875 , 11.25684404, 11.25686513,\n",
       "         11.25702679, 11.25707247, 11.2574977 , 11.2575223 , 11.25800024,\n",
       "         11.25810215, 11.25842898, 11.25844304, 11.25859415, 11.25865741,\n",
       "         11.25881555, 11.25891746, 11.25895964, 11.25947623, 11.25970466,\n",
       "         11.25977846, 11.25985577, 11.26035129, 11.2605024 , 11.26053403,\n",
       "         11.26064649, 11.26068163, 11.26083977, 11.26097331, 11.2612896 ,\n",
       "         11.2613634 , 11.26144071, 11.26180619, 11.26218222, 11.26227359,\n",
       "         11.26281479, 11.26318028, 11.26321893, 11.26322947, 11.26338762,\n",
       "         11.26359496, 11.26368633, 11.2644419 , 11.26454381, 11.26457544,\n",
       "         11.2647617 , 11.26483901, 11.26504284, 11.26541184, 11.26546455,\n",
       "         11.26611821, 11.26614281, 11.26634312, 11.26644152, 11.26677186,\n",
       "         11.26709869, 11.26725683, 11.26732009, 11.26743254, 11.26772071,\n",
       "         11.267791  , 11.26825137, 11.26838843, 11.26864848, 11.26938648,\n",
       "         11.26955165, 11.26982225, 11.26989956, 11.27000499, 11.27000499,\n",
       "         11.2701069 , 11.27039156, 11.27042319, 11.27065162, 11.27087302,\n",
       "         11.27089762, 11.2709679 , 11.27140016, 11.27146341, 11.27182538,\n",
       "         11.2718535 , 11.27223655, 11.27256338, 11.27274261, 11.27291481,\n",
       "         11.27308701, 11.27322758, 11.27336815, 11.27396909, 11.2742924 ,\n",
       "         11.27455597, 11.27467546, 11.27471411, 11.27503743, 11.27530451,\n",
       "         11.27552942, 11.27571217, 11.27575082, 11.27606359, 11.27607765,\n",
       "         11.27635879, 11.27653802, 11.27671373, 11.27682971, 11.27694568,\n",
       "         11.2769527 , 11.2769773 , 11.27720573, 11.27725142, 11.27727602,\n",
       "         11.27733927, 11.27770827, 11.2779121 , 11.2780597 , 11.27836544,\n",
       "         11.27838301, 11.27846033, 11.27860793, 11.27994686, 11.28058646,\n",
       "         11.28083246, 11.28117334, 11.2812612 , 11.28151072, 11.28184106,\n",
       "         11.28203434, 11.28229088, 11.28238577, 11.28250877, 11.28252634,\n",
       "         11.28253688, 11.28272314, 11.28278991, 11.28314134, 11.28398828,\n",
       "         11.28416399, 11.28446973, 11.28469816, 11.28474033, 11.28484927,\n",
       "         11.2850285 , 11.28556267, 11.28580515, 11.28592464, 11.2860125 ,\n",
       "         11.28606521, 11.28624444, 11.28626904, 11.2863077 , 11.28664507,\n",
       "         11.28678915, 11.28686295, 11.28696838, 11.28699298, 11.28710895,\n",
       "         11.28711949, 11.28720735, 11.28752363, 11.28766772, 11.28801563,\n",
       "         11.28801915, 11.28806483, 11.28822649, 11.2882546 , 11.28858143,\n",
       "         11.28905937, 11.28936863, 11.28947405, 11.28947405, 11.2894846 ,\n",
       "         11.29010311, 11.29016637, 11.29018042, 11.29076379, 11.29080245,\n",
       "         11.29098871, 11.29106602, 11.2914315 , 11.29150179, 11.29210976,\n",
       "         11.29266853, 11.29273178, 11.29294967, 11.2932765 , 11.29331515,\n",
       "         11.29344518, 11.29394069, 11.29416209, 11.29428158, 11.29433781,\n",
       "         11.29509689, 11.29521989, 11.29547994, 11.29560294, 11.29560294,\n",
       "         11.29567323, 11.29593329, 11.29605277, 11.29621091, 11.29674157,\n",
       "         11.29675211, 11.29711759, 11.29722302, 11.29742685, 11.29763068,\n",
       "         11.29792939, 11.29811565, 11.2981543 , 11.29825973, 11.29829136,\n",
       "         11.29831596, 11.29833353, 11.29864279, 11.2987939 , 11.29890284,\n",
       "         11.29922616, 11.29926833, 11.29961273, 11.29963381, 11.29964787,\n",
       "         11.29983413, 11.29996415, 11.30047021, 11.30052292, 11.30085678,\n",
       "         11.30089544, 11.30102546, 11.30107466, 11.30115198, 11.30138743,\n",
       "         11.30154558, 11.30205866, 11.30206217, 11.30224492, 11.30304968,\n",
       "         11.30406531, 11.30407234, 11.30417074, 11.30423399, 11.30444134,\n",
       "         11.30509851, 11.30533396, 11.30537613, 11.3056151 , 11.30621253,\n",
       "         11.30638121, 11.3064023 , 11.3066237 , 11.3067467 , 11.30696458,\n",
       "         11.30697513, 11.30702433, 11.30723167, 11.30758309, 11.30762527,\n",
       "         11.30769907, 11.30774827, 11.30777638, 11.30783261, 11.30794155,\n",
       "         11.30805401, 11.30807158, 11.30812781, 11.30849329, 11.30862683,\n",
       "         11.30909775, 11.30965652, 11.30980763, 11.30995171, 11.31005011,\n",
       "         11.31013094, 11.31022583, 11.31023988, 11.31073891, 11.31076702,\n",
       "         11.31091814, 11.31153665, 11.31211651, 11.3121903 , 11.31226762,\n",
       "         11.31240116, 11.3129529 , 11.3130759 , 11.31313213, 11.31313213,\n",
       "         11.31350113, 11.31362061, 11.31378578, 11.31448864, 11.3145765 ,\n",
       "         11.31662532, 11.31675183, 11.3168432 , 11.3173352 , 11.31745117,\n",
       "         11.3177042 , 11.31774285, 11.31789045, 11.31813997, 11.31905368,\n",
       "         11.31961947, 11.31993224, 11.32042424, 11.32091624, 11.3211517 ,\n",
       "         11.32129227, 11.3215207 , 11.32158395, 11.32161558, 11.32216029,\n",
       "         11.32217786, 11.32259958, 11.323443  , 11.32429697, 11.32484168,\n",
       "         11.32580811, 11.32588893, 11.32591002, 11.32596625, 11.32616305,\n",
       "         11.32656719, 11.32761444, 11.32796236, 11.32822593, 11.32949809,\n",
       "         11.3303134 , 11.33039775, 11.33050669, 11.33194402, 11.33224977,\n",
       "         11.33308616, 11.33376442, 11.33431967, 11.33487844, 11.33491358,\n",
       "         11.33536341, 11.33593272, 11.33637552, 11.33695186, 11.33701863,\n",
       "         11.33731383, 11.337971  , 11.33971408, 11.34042045, 11.34072267,\n",
       "         11.34170316, 11.34221624, 11.34325646, 11.34401203, 11.344128  ,\n",
       "         11.3461698 , 11.34617682, 11.34640174, 11.34911476, 11.3497649 ,\n",
       "         11.34978598, 11.35071023, 11.3522776 , 11.35456188, 11.35491682,\n",
       "         11.35499413, 11.35563021, 11.35623818, 11.35998088, 11.36001603,\n",
       "         11.36725542, 11.36806371, 11.36816211, 11.3690477 , 11.37050261,\n",
       "         11.37085404, 11.37088215, 11.37353191, 11.37428748, 11.37443508,\n",
       "         11.37471271, 11.3776155 , 11.37896849, 11.38956402, 11.39341215])),\n",
       " (0.037774667185630946, -7.566314311250849, 0.9979748364604206))"
      ]
     },
     "execution_count": 50,
     "metadata": {},
     "output_type": "execute_result"
    },
    {
     "data": {
      "image/png": "[encoded data removed]",
      "text/plain": [
       "<Figure size 432x288 with 1 Axes>"
      ]
     },
     "metadata": {
      "needs_background": "light"
     },
     "output_type": "display_data"
    }
   ],
   "source": [
    "scipy.stats.probplot(means, dist=\"norm\", \n",
    "                     sparams=len(samp)-1, plot=plt)"
   ]
  },
  {
   "cell_type": "code",
   "execution_count": 51,
   "id": "9aff91a7",
   "metadata": {},
   "outputs": [
    {
     "data": {
      "text/plain": [
       "((array([409.75447609, 417.6076492 , 422.06789456, 425.24996033,\n",
       "         427.75458277, 429.83540071, 431.6244473 , 433.19958802,\n",
       "         434.61075771, 435.89197548, 437.06750372, 438.15527962,\n",
       "         439.16895419, 440.11916758, 441.0143809 , 441.86143812,\n",
       "         442.66595697, 443.43260794, 444.16531782, 444.86742108,\n",
       "         445.54177438, 446.19084464, 446.81677748, 447.42145127,\n",
       "         448.00652022, 448.57344901, 449.12354099, 449.6579613 ,\n",
       "         450.17775596, 450.68386771, 451.17714938, 451.65837504,\n",
       "         452.12824958, 452.58741674, 453.03646615, 453.47593922,\n",
       "         453.90633437, 454.32811152, 454.74169597, 455.14748186,\n",
       "         455.54583518, 455.93709642, 456.3215829 , 456.69959087,\n",
       "         457.07139736, 457.43726183, 457.79742761, 458.1521233 ,\n",
       "         458.50156388, 458.84595184, 459.1854781 , 459.52032292,\n",
       "         459.85065667, 460.17664058, 460.49842735, 460.81616179,\n",
       "         461.12998133, 461.44001656, 461.74639164, 462.04922476,\n",
       "         462.3486285 , 462.64471019, 462.93757225, 463.22731247,\n",
       "         463.51402431, 463.79779714, 464.07871649, 464.35686427,\n",
       "         464.63231897, 464.90515586, 465.17544715, 465.44326219,\n",
       "         465.70866759, 465.97172738, 466.23250314, 466.49105414,\n",
       "         466.74743742, 467.00170797, 467.25391874, 467.50412083,\n",
       "         467.75236352, 467.99869437, 468.24315933, 468.48580276,\n",
       "         468.72666756, 468.9657952 , 469.20322579, 469.43899817,\n",
       "         469.67314992, 469.90571743, 470.13673598, 470.36623974,\n",
       "         470.59426187, 470.82083452, 471.04598887, 471.26975521,\n",
       "         471.49216293, 471.71324059, 471.93301594, 472.15151593,\n",
       "         472.36876679, 472.58479402, 472.79962241, 473.01327612,\n",
       "         473.22577862, 473.43715282, 473.64742098, 473.85660482,\n",
       "         474.06472549, 474.27180363, 474.47785934, 474.68291223,\n",
       "         474.88698145, 475.09008566, 475.29224309, 475.49347153,\n",
       "         475.69378836, 475.89321056, 476.09175471, 476.28943702,\n",
       "         476.48627333, 476.68227913, 476.87746958, 477.07185948,\n",
       "         477.26546334, 477.45829534, 477.65036938, 477.84169905,\n",
       "         478.03229766, 478.22217826, 478.41135362, 478.59983627,\n",
       "         478.78763846, 478.97477223, 479.16124937, 479.34708144,\n",
       "         479.5322798 , 479.71685555, 479.90081964, 480.08418277,\n",
       "         480.26695546, 480.44914804, 480.63077065, 480.81183327,\n",
       "         480.99234567, 481.17231747, 481.35175812, 481.53067691,\n",
       "         481.70908297, 481.88698529, 482.06439268, 482.24131385,\n",
       "         482.41775732, 482.59373152, 482.76924472, 482.94430506,\n",
       "         483.11892057, 483.29309913, 483.46684854, 483.64017644,\n",
       "         483.81309039, 483.98559783, 484.15770608, 484.32942237,\n",
       "         484.50075382, 484.67170745, 484.8422902 , 485.01250889,\n",
       "         485.18237027, 485.35188099, 485.5210476 , 485.68987659,\n",
       "         485.85837436, 486.02654722, 486.1944014 , 486.36194308,\n",
       "         486.52917832, 486.69611315, 486.86275351, 487.02910527,\n",
       "         487.19517424, 487.36096615, 487.52648669, 487.69174147,\n",
       "         487.85673604, 488.02147589, 488.18596648, 488.35021316,\n",
       "         488.51422128, 488.67799611, 488.84154287, 489.00486673,\n",
       "         489.16797282, 489.33086621, 489.49355193, 489.65603496,\n",
       "         489.81832026, 489.98041271, 490.14231717, 490.30403846,\n",
       "         490.46558136, 490.62695061, 490.78815091, 490.94918693,\n",
       "         491.1100633 , 491.27078462, 491.43135545, 491.59178034,\n",
       "         491.75206378, 491.91221026, 492.07222421, 492.23211006,\n",
       "         492.39187219, 492.55151498, 492.71104276, 492.87045985,\n",
       "         493.02977055, 493.18897913, 493.34808983, 493.50710688,\n",
       "         493.6660345 , 493.82487688, 493.98363818, 494.14232257,\n",
       "         494.30093417, 494.45947713, 494.61795553, 494.77637348,\n",
       "         494.93473505, 495.09304432, 495.25130533, 495.40952214,\n",
       "         495.56769878, 495.72583927, 495.88394762, 496.04202785,\n",
       "         496.20008395, 496.35811992, 496.51613974, 496.67414739,\n",
       "         496.83214685, 496.9901421 , 497.1481371 , 497.30613582,\n",
       "         497.46414222, 497.62216027, 497.78019393, 497.93824716,\n",
       "         498.09632394, 498.25442821, 498.41256396, 498.57073516,\n",
       "         498.72894577, 498.88719979, 499.04550118, 499.20385395,\n",
       "         499.36226209, 499.52072961, 499.67926051, 499.83785882,\n",
       "         499.99652857, 500.15527379, 500.31409855, 500.47300689,\n",
       "         500.6320029 , 500.79109066, 500.95027428, 501.10955787,\n",
       "         501.26894556, 501.4284415 , 501.58804986, 501.74777481,\n",
       "         501.90762055, 502.06759131, 502.22769132, 502.38792485,\n",
       "         502.54829617, 502.7088096 , 502.86946945, 503.03028007,\n",
       "         503.19124585, 503.35237119, 503.51366051, 503.67511828,\n",
       "         503.83674897, 503.99855711, 504.16054723, 504.32272391,\n",
       "         504.48509177, 504.64765544, 504.8104196 , 504.97338897,\n",
       "         505.13656828, 505.29996234, 505.46357595, 505.62741399,\n",
       "         505.79148136, 505.955783  , 506.12032391, 506.28510912,\n",
       "         506.4501437 , 506.61543279, 506.78098155, 506.94679522,\n",
       "         507.11287906, 507.27923839, 507.4458786 , 507.61280512,\n",
       "         507.78002343, 507.94753908, 508.11535769, 508.2834849 ,\n",
       "         508.45192645, 508.62068813, 508.78977579, 508.95919536,\n",
       "         509.12895283, 509.29905425, 509.46950577, 509.64031358,\n",
       "         509.81148398, 509.98302331, 510.15493802, 510.32723463,\n",
       "         510.49991974, 510.67300005, 510.84648233, 511.02037346,\n",
       "         511.19468038, 511.36941017, 511.54456996, 511.72016701,\n",
       "         511.89620869, 512.07270243, 512.24965583, 512.42707654,\n",
       "         512.60497236, 512.7833512 , 512.96222108, 513.14159016,\n",
       "         513.32146669, 513.50185909, 513.68277589, 513.86422576,\n",
       "         514.0462175 , 514.22876007, 514.41186257, 514.59553423,\n",
       "         514.77978447, 514.96462286, 515.1500591 , 515.33610309,\n",
       "         515.52276491, 515.71005479, 515.89798315, 516.0865606 ,\n",
       "         516.27579795, 516.4657062 , 516.65629654, 516.8475804 ,\n",
       "         517.03956939, 517.23227537, 517.42571041, 517.61988681,\n",
       "         517.81481714, 518.01051419, 518.20699101, 518.40426091,\n",
       "         518.6023375 , 518.80123463, 519.00096646, 519.20154744,\n",
       "         519.40299233, 519.6053162 , 519.80853445, 520.01266282,\n",
       "         520.21771737, 520.42371455, 520.63067116, 520.83860438,\n",
       "         521.04753181, 521.25747141, 521.4684416 , 521.68046121,\n",
       "         521.89354953, 522.10772631, 522.32301178, 522.53942666,\n",
       "         522.7569922 , 522.97573016, 523.19566287, 523.41681322,\n",
       "         523.63920469, 523.86286137, 524.08780801, 524.31406997,\n",
       "         524.54167335, 524.77064492, 525.0010122 , 525.23280347,\n",
       "         525.46604781, 525.70077513, 525.93701619, 526.17480264,\n",
       "         526.41416707, 526.65514303, 526.89776509, 527.14206885,\n",
       "         527.38809102, 527.63586946, 527.88544319, 528.13685249,\n",
       "         528.39013894, 528.64534548, 528.90251646, 529.16169769,\n",
       "         529.42293658, 529.68628211, 529.95178499, 530.21949771,\n",
       "         530.48947461, 530.76177201, 531.03644828, 531.31356394,\n",
       "         531.5931818 , 531.87536703, 532.16018736, 532.44771312,\n",
       "         532.73801745, 533.03117645, 533.3272693 , 533.62637848,\n",
       "         533.92858993, 534.23399326, 534.54268197, 534.85475367,\n",
       "         535.17031035, 535.48945862, 535.81231003, 536.13898137,\n",
       "         536.469595  , 536.80427924, 537.14316874, 537.48640494,\n",
       "         537.83413651, 538.18651989, 538.54371983, 538.90591001,\n",
       "         539.27327369, 539.64600445, 540.024307  , 540.40839804,\n",
       "         540.79850724, 541.19487833, 541.59777025, 542.00745848,\n",
       "         542.4242365 , 542.84841741, 543.28033575, 543.72034952,\n",
       "         544.16884245, 544.62622658, 545.09294513, 545.56947578,\n",
       "         546.05633439, 546.55407919, 547.06331567, 547.58470212,\n",
       "         548.11895597, 548.66686128, 549.22927728, 549.80714846,\n",
       "         550.40151635, 551.01353345, 551.6444798 , 552.29578272,\n",
       "         552.96904058, 553.66605164, 554.3888492 , 555.13974497,\n",
       "         555.92138291, 556.73680693, 557.58954684, 558.48372886,\n",
       "         559.42421968, 560.41681721, 561.46850732, 562.58781651,\n",
       "         563.7853068 , 565.0742885 , 566.4718777 , 568.00062101,\n",
       "         569.6910998 , 571.58632494, 573.74964871, 576.28025333,\n",
       "         579.34711248, 583.27672236, 588.8483932 , 598.84337406]),\n",
       "  array([1.11276100e+08, 1.11677927e+08, 1.12491442e+08, 1.12924611e+08,\n",
       "         1.13127983e+08, 1.13167873e+08, 1.13266786e+08, 1.13295691e+08,\n",
       "         1.13401009e+08, 1.13431054e+08, 1.13493185e+08, 1.13545075e+08,\n",
       "         1.13588846e+08, 1.13595367e+08, 1.13625657e+08, 1.13662340e+08,\n",
       "         1.13670977e+08, 1.13772630e+08, 1.13855433e+08, 1.13914044e+08,\n",
       "         1.13926432e+08, 1.13932874e+08, 1.13977613e+08, 1.13981671e+08,\n",
       "         1.14025501e+08, 1.14028770e+08, 1.14100078e+08, 1.14232529e+08,\n",
       "         1.14296170e+08, 1.14333545e+08, 1.14353775e+08, 1.14357992e+08,\n",
       "         1.14380341e+08, 1.14405106e+08, 1.14423274e+08, 1.14428981e+08,\n",
       "         1.14432969e+08, 1.14434662e+08, 1.14469300e+08, 1.14480234e+08,\n",
       "         1.14490648e+08, 1.14500707e+08, 1.14510200e+08, 1.14515920e+08,\n",
       "         1.14562459e+08, 1.14635836e+08, 1.14690490e+08, 1.14700993e+08,\n",
       "         1.14704999e+08, 1.14705420e+08, 1.14721317e+08, 1.14727352e+08,\n",
       "         1.14732085e+08, 1.14737934e+08, 1.14764710e+08, 1.14774611e+08,\n",
       "         1.14824593e+08, 1.14845664e+08, 1.14846925e+08, 1.14854475e+08,\n",
       "         1.14859960e+08, 1.14863162e+08, 1.14885028e+08, 1.14897338e+08,\n",
       "         1.14948089e+08, 1.14956465e+08, 1.14963838e+08, 1.15016551e+08,\n",
       "         1.15038822e+08, 1.15050414e+08, 1.15065784e+08, 1.15090459e+08,\n",
       "         1.15091661e+08, 1.15097158e+08, 1.15116338e+08, 1.15140258e+08,\n",
       "         1.15141325e+08, 1.15190803e+08, 1.15231155e+08, 1.15308311e+08,\n",
       "         1.15320219e+08, 1.15321525e+08, 1.15332200e+08, 1.15341071e+08,\n",
       "         1.15348431e+08, 1.15353328e+08, 1.15383765e+08, 1.15390144e+08,\n",
       "         1.15393840e+08, 1.15406131e+08, 1.15407403e+08, 1.15417588e+08,\n",
       "         1.15471348e+08, 1.15492219e+08, 1.15495630e+08, 1.15514074e+08,\n",
       "         1.15574644e+08, 1.15581803e+08, 1.15583377e+08, 1.15589259e+08,\n",
       "         1.15611351e+08, 1.15640052e+08, 1.15657465e+08, 1.15666547e+08,\n",
       "         1.15679535e+08, 1.15685428e+08, 1.15688743e+08, 1.15692124e+08,\n",
       "         1.15712624e+08, 1.15713687e+08, 1.15720547e+08, 1.15739811e+08,\n",
       "         1.15756102e+08, 1.15761109e+08, 1.15779448e+08, 1.15779449e+08,\n",
       "         1.15798065e+08, 1.15803022e+08, 1.15808169e+08, 1.15823926e+08,\n",
       "         1.15847013e+08, 1.15847681e+08, 1.15874199e+08, 1.15878721e+08,\n",
       "         1.15885044e+08, 1.15912211e+08, 1.15917819e+08, 1.15926686e+08,\n",
       "         1.15933788e+08, 1.15934064e+08, 1.15945196e+08, 1.15952585e+08,\n",
       "         1.15980855e+08, 1.16005240e+08, 1.16005714e+08, 1.16017348e+08,\n",
       "         1.16038964e+08, 1.16055836e+08, 1.16059527e+08, 1.16063200e+08,\n",
       "         1.16089175e+08, 1.16107651e+08, 1.16108574e+08, 1.16111742e+08,\n",
       "         1.16112673e+08, 1.16136266e+08, 1.16148916e+08, 1.16164659e+08,\n",
       "         1.16168330e+08, 1.16168617e+08, 1.16178234e+08, 1.16189378e+08,\n",
       "         1.16191726e+08, 1.16193484e+08, 1.16199367e+08, 1.16200811e+08,\n",
       "         1.16204260e+08, 1.16217615e+08, 1.16220758e+08, 1.16224013e+08,\n",
       "         1.16224902e+08, 1.16229138e+08, 1.16237188e+08, 1.16254150e+08,\n",
       "         1.16261971e+08, 1.16276027e+08, 1.16293454e+08, 1.16294021e+08,\n",
       "         1.16296179e+08, 1.16301153e+08, 1.16305144e+08, 1.16332070e+08,\n",
       "         1.16339854e+08, 1.16350836e+08, 1.16374853e+08, 1.16382259e+08,\n",
       "         1.16405624e+08, 1.16434232e+08, 1.16436702e+08, 1.16443483e+08,\n",
       "         1.16443596e+08, 1.16471131e+08, 1.16491126e+08, 1.16493178e+08,\n",
       "         1.16509942e+08, 1.16511364e+08, 1.16514009e+08, 1.16521601e+08,\n",
       "         1.16529988e+08, 1.16533563e+08, 1.16533773e+08, 1.16543123e+08,\n",
       "         1.16546544e+08, 1.16555086e+08, 1.16556758e+08, 1.16577653e+08,\n",
       "         1.16579923e+08, 1.16582930e+08, 1.16587377e+08, 1.16593431e+08,\n",
       "         1.16608158e+08, 1.16639237e+08, 1.16662741e+08, 1.16666098e+08,\n",
       "         1.16667036e+08, 1.16671412e+08, 1.16689581e+08, 1.16732404e+08,\n",
       "         1.16757644e+08, 1.16765806e+08, 1.16767993e+08, 1.16773500e+08,\n",
       "         1.16773875e+08, 1.16774081e+08, 1.16779214e+08, 1.16788187e+08,\n",
       "         1.16805575e+08, 1.16811350e+08, 1.16820673e+08, 1.16844846e+08,\n",
       "         1.16854043e+08, 1.16854460e+08, 1.16861140e+08, 1.16865797e+08,\n",
       "         1.16865944e+08, 1.16870909e+08, 1.16875284e+08, 1.16875401e+08,\n",
       "         1.16899422e+08, 1.16918391e+08, 1.16942504e+08, 1.16954965e+08,\n",
       "         1.16963650e+08, 1.16964745e+08, 1.16970915e+08, 1.16984450e+08,\n",
       "         1.16985182e+08, 1.17004122e+08, 1.17015529e+08, 1.17029966e+08,\n",
       "         1.17037576e+08, 1.17043251e+08, 1.17043736e+08, 1.17046586e+08,\n",
       "         1.17052141e+08, 1.17054583e+08, 1.17094368e+08, 1.17095154e+08,\n",
       "         1.17101188e+08, 1.17110355e+08, 1.17114025e+08, 1.17114279e+08,\n",
       "         1.17130349e+08, 1.17134312e+08, 1.17145803e+08, 1.17149088e+08,\n",
       "         1.17150392e+08, 1.17181070e+08, 1.17181839e+08, 1.17187287e+08,\n",
       "         1.17215003e+08, 1.17215700e+08, 1.17221959e+08, 1.17222546e+08,\n",
       "         1.17225092e+08, 1.17226703e+08, 1.17237627e+08, 1.17239972e+08,\n",
       "         1.17248152e+08, 1.17304814e+08, 1.17327025e+08, 1.17351606e+08,\n",
       "         1.17363583e+08, 1.17369386e+08, 1.17381419e+08, 1.17386317e+08,\n",
       "         1.17403195e+08, 1.17412345e+08, 1.17413539e+08, 1.17422180e+08,\n",
       "         1.17428732e+08, 1.17449771e+08, 1.17468053e+08, 1.17488399e+08,\n",
       "         1.17489771e+08, 1.17498048e+08, 1.17502154e+08, 1.17507643e+08,\n",
       "         1.17528364e+08, 1.17530712e+08, 1.17534458e+08, 1.17542117e+08,\n",
       "         1.17556965e+08, 1.17564755e+08, 1.17569567e+08, 1.17574885e+08,\n",
       "         1.17581632e+08, 1.17599447e+08, 1.17603264e+08, 1.17607760e+08,\n",
       "         1.17610919e+08, 1.17614911e+08, 1.17658727e+08, 1.17677766e+08,\n",
       "         1.17694359e+08, 1.17701391e+08, 1.17710077e+08, 1.17713164e+08,\n",
       "         1.17720980e+08, 1.17725107e+08, 1.17740484e+08, 1.17755098e+08,\n",
       "         1.17757288e+08, 1.17767472e+08, 1.17775655e+08, 1.17776450e+08,\n",
       "         1.17795110e+08, 1.17801132e+08, 1.17801364e+08, 1.17824236e+08,\n",
       "         1.17827014e+08, 1.17831588e+08, 1.17833734e+08, 1.17848393e+08,\n",
       "         1.17853612e+08, 1.17857252e+08, 1.17870788e+08, 1.17888591e+08,\n",
       "         1.17894880e+08, 1.17901544e+08, 1.17918996e+08, 1.17919182e+08,\n",
       "         1.17927061e+08, 1.17940182e+08, 1.17951421e+08, 1.17992663e+08,\n",
       "         1.18000118e+08, 1.18006180e+08, 1.18016233e+08, 1.18054792e+08,\n",
       "         1.18057874e+08, 1.18059207e+08, 1.18063013e+08, 1.18064476e+08,\n",
       "         1.18069993e+08, 1.18073799e+08, 1.18074322e+08, 1.18085048e+08,\n",
       "         1.18096714e+08, 1.18104622e+08, 1.18147950e+08, 1.18149992e+08,\n",
       "         1.18152814e+08, 1.18165906e+08, 1.18188379e+08, 1.18194739e+08,\n",
       "         1.18205100e+08, 1.18206736e+08, 1.18207713e+08, 1.18229050e+08,\n",
       "         1.18230498e+08, 1.18246653e+08, 1.18257613e+08, 1.18259159e+08,\n",
       "         1.18269994e+08, 1.18275991e+08, 1.18276216e+08, 1.18284425e+08,\n",
       "         1.18289039e+08, 1.18321109e+08, 1.18321996e+08, 1.18327767e+08,\n",
       "         1.18331506e+08, 1.18345016e+08, 1.18347606e+08, 1.18355691e+08,\n",
       "         1.18367612e+08, 1.18377876e+08, 1.18389396e+08, 1.18408387e+08,\n",
       "         1.18416834e+08, 1.18418934e+08, 1.18433583e+08, 1.18437923e+08,\n",
       "         1.18455765e+08, 1.18463462e+08, 1.18475104e+08, 1.18483471e+08,\n",
       "         1.18492194e+08, 1.18493020e+08, 1.18496876e+08, 1.18504540e+08,\n",
       "         1.18523492e+08, 1.18542284e+08, 1.18553828e+08, 1.18565185e+08,\n",
       "         1.18566416e+08, 1.18573611e+08, 1.18584724e+08, 1.18592016e+08,\n",
       "         1.18599886e+08, 1.18601617e+08, 1.18608218e+08, 1.18610144e+08,\n",
       "         1.18617088e+08, 1.18618783e+08, 1.18627258e+08, 1.18632130e+08,\n",
       "         1.18654074e+08, 1.18674038e+08, 1.18686665e+08, 1.18692960e+08,\n",
       "         1.18693847e+08, 1.18710014e+08, 1.18714829e+08, 1.18733611e+08,\n",
       "         1.18738590e+08, 1.18740155e+08, 1.18744040e+08, 1.18758379e+08,\n",
       "         1.18785643e+08, 1.18862837e+08, 1.18882970e+08, 1.18891953e+08,\n",
       "         1.18907815e+08, 1.18919434e+08, 1.18919461e+08, 1.18925280e+08,\n",
       "         1.18940470e+08, 1.18944208e+08, 1.18947470e+08, 1.18948871e+08,\n",
       "         1.18968954e+08, 1.19016677e+08, 1.19020151e+08, 1.19035791e+08,\n",
       "         1.19095715e+08, 1.19098955e+08, 1.19147981e+08, 1.19156083e+08,\n",
       "         1.19162931e+08, 1.19219750e+08, 1.19271251e+08, 1.19280984e+08,\n",
       "         1.19295669e+08, 1.19342415e+08, 1.19357098e+08, 1.19375654e+08,\n",
       "         1.19453257e+08, 1.19469046e+08, 1.19470522e+08, 1.19517891e+08,\n",
       "         1.19534895e+08, 1.19577060e+08, 1.19592575e+08, 1.19646106e+08,\n",
       "         1.19651301e+08, 1.19656585e+08, 1.19665018e+08, 1.19686841e+08,\n",
       "         1.19747370e+08, 1.19775156e+08, 1.19789513e+08, 1.19813336e+08,\n",
       "         1.19818290e+08, 1.19823008e+08, 1.19834280e+08, 1.19935736e+08,\n",
       "         1.19955853e+08, 1.20009417e+08, 1.20049732e+08, 1.20074810e+08,\n",
       "         1.20136110e+08, 1.20143053e+08, 1.20148136e+08, 1.20184115e+08,\n",
       "         1.20184904e+08, 1.20527136e+08, 1.20592664e+08, 1.20607207e+08,\n",
       "         1.20683652e+08, 1.20714185e+08, 1.20833657e+08, 1.20861000e+08,\n",
       "         1.20865715e+08, 1.20929723e+08, 1.21072861e+08, 1.21193395e+08,\n",
       "         1.21247254e+08, 1.21278082e+08, 1.21382044e+08, 1.21402274e+08,\n",
       "         1.21407480e+08, 1.21479550e+08, 1.21531624e+08, 1.21674777e+08,\n",
       "         1.22121458e+08, 1.22493310e+08, 1.22773182e+08, 1.23676851e+08])),\n",
       " (59433.83469102213, 87471935.62111217, 0.9986416698819758))"
      ]
     },
     "execution_count": 51,
     "metadata": {},
     "output_type": "execute_result"
    },
    {
     "data": {
      "image/png": "[encoded data removed]",
      "text/plain": [
       "<Figure size 432x288 with 1 Axes>"
      ]
     },
     "metadata": {
      "needs_background": "light"
     },
     "output_type": "display_data"
    }
   ],
   "source": [
    "scipy.stats.probplot(otc, dist=\"chi2\", \n",
    "                     sparams=len(samp)-1, plot=plt)"
   ]
  },
  {
   "cell_type": "code",
   "execution_count": 57,
   "id": "2de42fe9",
   "metadata": {},
   "outputs": [
    {
     "data": {
      "text/plain": [
       "281450"
      ]
     },
     "execution_count": 57,
     "metadata": {},
     "output_type": "execute_result"
    }
   ],
   "source": [
    "len(data[data.slot == 'exp'].userID.unique())"
   ]
  },
  {
   "cell_type": "code",
   "execution_count": 72,
   "id": "c4f6de53",
   "metadata": {},
   "outputs": [
    {
     "name": "stderr",
     "output_type": "stream",
     "text": [
      "100%|██████████| 281450/281450 [02:20<00:00, 2007.11it/s]\n"
     ]
    }
   ],
   "source": [
    "clicks = []\n",
    "a = data[data.slot == 'exp'].userID.unique()\n",
    "for i in tqdm(a):\n",
    "    clicks.append(sum(data[data.userID == i].n_clicks))"
   ]
  },
  {
   "cell_type": "code",
   "execution_count": 73,
   "id": "468a7872",
   "metadata": {},
   "outputs": [
    {
     "data": {
      "text/html": [
       "<div>\n",
       "<style scoped>\n",
       "    .dataframe tbody tr th:only-of-type {\n",
       "        vertical-align: middle;\n",
       "    }\n",
       "\n",
       "    .dataframe tbody tr th {\n",
       "        vertical-align: top;\n",
       "    }\n",
       "\n",
       "    .dataframe thead th {\n",
       "        text-align: right;\n",
       "    }\n",
       "</style>\n",
       "<table border=\"1\" class=\"dataframe\">\n",
       "  <thead>\n",
       "    <tr style=\"text-align: right;\">\n",
       "      <th></th>\n",
       "      <th>id</th>\n",
       "      <th>clicks</th>\n",
       "    </tr>\n",
       "  </thead>\n",
       "  <tbody>\n",
       "    <tr>\n",
       "      <th>0</th>\n",
       "      <td>1</td>\n",
       "      <td>23</td>\n",
       "    </tr>\n",
       "    <tr>\n",
       "      <th>1</th>\n",
       "      <td>3</td>\n",
       "      <td>3</td>\n",
       "    </tr>\n",
       "    <tr>\n",
       "      <th>2</th>\n",
       "      <td>5</td>\n",
       "      <td>29</td>\n",
       "    </tr>\n",
       "    <tr>\n",
       "      <th>3</th>\n",
       "      <td>7</td>\n",
       "      <td>54</td>\n",
       "    </tr>\n",
       "    <tr>\n",
       "      <th>4</th>\n",
       "      <td>9</td>\n",
       "      <td>6</td>\n",
       "    </tr>\n",
       "    <tr>\n",
       "      <th>...</th>\n",
       "      <td>...</td>\n",
       "      <td>...</td>\n",
       "    </tr>\n",
       "    <tr>\n",
       "      <th>281445</th>\n",
       "      <td>603129</td>\n",
       "      <td>0</td>\n",
       "    </tr>\n",
       "    <tr>\n",
       "      <th>281446</th>\n",
       "      <td>603130</td>\n",
       "      <td>0</td>\n",
       "    </tr>\n",
       "    <tr>\n",
       "      <th>281447</th>\n",
       "      <td>603131</td>\n",
       "      <td>4</td>\n",
       "    </tr>\n",
       "    <tr>\n",
       "      <th>281448</th>\n",
       "      <td>603134</td>\n",
       "      <td>4</td>\n",
       "    </tr>\n",
       "    <tr>\n",
       "      <th>281449</th>\n",
       "      <td>603137</td>\n",
       "      <td>3</td>\n",
       "    </tr>\n",
       "  </tbody>\n",
       "</table>\n",
       "<p>281450 rows × 2 columns</p>\n",
       "</div>"
      ],
      "text/plain": [
       "            id  clicks\n",
       "0            1      23\n",
       "1            3       3\n",
       "2            5      29\n",
       "3            7      54\n",
       "4            9       6\n",
       "...        ...     ...\n",
       "281445  603129       0\n",
       "281446  603130       0\n",
       "281447  603131       4\n",
       "281448  603134       4\n",
       "281449  603137       3\n",
       "\n",
       "[281450 rows x 2 columns]"
      ]
     },
     "execution_count": 73,
     "metadata": {},
     "output_type": "execute_result"
    }
   ],
   "source": [
    "df1 = pd.DataFrame({'id' : data[data.slot == 'exp'].userID.unique(), 'clicks': clicks})\n",
    "df1"
   ]
  },
  {
   "cell_type": "code",
   "execution_count": 77,
   "id": "fbb0a79f",
   "metadata": {},
   "outputs": [
    {
     "name": "stderr",
     "output_type": "stream",
     "text": [
      "100%|██████████| 284392/284392 [02:22<00:00, 1991.23it/s]\n"
     ]
    }
   ],
   "source": [
    "clicks = []\n",
    "a = data[data.slot == 'control'].userID.unique()\n",
    "for i in tqdm(a):\n",
    "    clicks.append(sum(data[data.userID == i].n_clicks))"
   ]
  },
  {
   "cell_type": "code",
   "execution_count": 78,
   "id": "f708568b",
   "metadata": {},
   "outputs": [
    {
     "data": {
      "text/html": [
       "<div>\n",
       "<style scoped>\n",
       "    .dataframe tbody tr th:only-of-type {\n",
       "        vertical-align: middle;\n",
       "    }\n",
       "\n",
       "    .dataframe tbody tr th {\n",
       "        vertical-align: top;\n",
       "    }\n",
       "\n",
       "    .dataframe thead th {\n",
       "        text-align: right;\n",
       "    }\n",
       "</style>\n",
       "<table border=\"1\" class=\"dataframe\">\n",
       "  <thead>\n",
       "    <tr style=\"text-align: right;\">\n",
       "      <th></th>\n",
       "      <th>id</th>\n",
       "      <th>clicks</th>\n",
       "    </tr>\n",
       "  </thead>\n",
       "  <tbody>\n",
       "    <tr>\n",
       "      <th>0</th>\n",
       "      <td>6</td>\n",
       "      <td>12</td>\n",
       "    </tr>\n",
       "    <tr>\n",
       "      <th>1</th>\n",
       "      <td>8</td>\n",
       "      <td>4</td>\n",
       "    </tr>\n",
       "    <tr>\n",
       "      <th>2</th>\n",
       "      <td>10</td>\n",
       "      <td>22</td>\n",
       "    </tr>\n",
       "    <tr>\n",
       "      <th>3</th>\n",
       "      <td>15</td>\n",
       "      <td>2</td>\n",
       "    </tr>\n",
       "    <tr>\n",
       "      <th>4</th>\n",
       "      <td>23</td>\n",
       "      <td>3</td>\n",
       "    </tr>\n",
       "    <tr>\n",
       "      <th>...</th>\n",
       "      <td>...</td>\n",
       "      <td>...</td>\n",
       "    </tr>\n",
       "    <tr>\n",
       "      <th>284387</th>\n",
       "      <td>603128</td>\n",
       "      <td>5</td>\n",
       "    </tr>\n",
       "    <tr>\n",
       "      <th>284388</th>\n",
       "      <td>603132</td>\n",
       "      <td>1</td>\n",
       "    </tr>\n",
       "    <tr>\n",
       "      <th>284389</th>\n",
       "      <td>603133</td>\n",
       "      <td>1</td>\n",
       "    </tr>\n",
       "    <tr>\n",
       "      <th>284390</th>\n",
       "      <td>603135</td>\n",
       "      <td>0</td>\n",
       "    </tr>\n",
       "    <tr>\n",
       "      <th>284391</th>\n",
       "      <td>603136</td>\n",
       "      <td>2</td>\n",
       "    </tr>\n",
       "  </tbody>\n",
       "</table>\n",
       "<p>284392 rows × 2 columns</p>\n",
       "</div>"
      ],
      "text/plain": [
       "            id  clicks\n",
       "0            6      12\n",
       "1            8       4\n",
       "2           10      22\n",
       "3           15       2\n",
       "4           23       3\n",
       "...        ...     ...\n",
       "284387  603128       5\n",
       "284388  603132       1\n",
       "284389  603133       1\n",
       "284390  603135       0\n",
       "284391  603136       2\n",
       "\n",
       "[284392 rows x 2 columns]"
      ]
     },
     "execution_count": 78,
     "metadata": {},
     "output_type": "execute_result"
    }
   ],
   "source": [
    "df2 = pd.DataFrame({'id' : data[data.slot == 'control'].userID.unique(), 'clicks': clicks})\n",
    "df2"
   ]
  },
  {
   "cell_type": "code",
   "execution_count": 79,
   "id": "a17a0f4c",
   "metadata": {},
   "outputs": [
    {
     "data": {
      "text/plain": [
       "MannwhitneyuResult(statistic=38901259929.0, pvalue=4.3471471887604393e-75)"
      ]
     },
     "execution_count": 79,
     "metadata": {},
     "output_type": "execute_result"
    }
   ],
   "source": [
    "stats.mannwhitneyu(df1.clicks, df2.clicks)"
   ]
  },
  {
   "cell_type": "code",
   "execution_count": 89,
   "id": "b7c97734",
   "metadata": {},
   "outputs": [
    {
     "data": {
      "text/plain": [
       "array(['Browser #2', 'Browser #4', 'Browser #14', 'Browser #17',\n",
       "       'Browser #20', 'Browser #22'], dtype=object)"
      ]
     },
     "execution_count": 89,
     "metadata": {},
     "output_type": "execute_result"
    }
   ],
   "source": [
    "data.browser.unique()"
   ]
  },
  {
   "cell_type": "code",
   "execution_count": 112,
   "id": "719b027c",
   "metadata": {},
   "outputs": [],
   "source": [
    "sp = []\n",
    "for i in data.browser.unique():\n",
    "    s1 = data.query('slot == \"control\" & browser == @i').n_clicks\n",
    "    s2 = data.query('slot == \"exp\" & browser == @i').n_clicks\n",
    "    sp.append(stats.mannwhitneyu(s1, s2))"
   ]
  },
  {
   "cell_type": "code",
   "execution_count": 117,
   "id": "2a62a0ee",
   "metadata": {},
   "outputs": [],
   "source": [
    "p = [i[1] for i in sp]"
   ]
  },
  {
   "cell_type": "code",
   "execution_count": 125,
   "id": "ded183b7",
   "metadata": {},
   "outputs": [
    {
     "data": {
      "text/plain": [
       "(array([False, False,  True, False, False, False]),\n",
       " array([0.1362193 , 0.81521235, 0.        , 0.14960241, 0.81521235,\n",
       "        0.77221655]),\n",
       " 0.0042107445144894395,\n",
       " 0.004166666666666667)"
      ]
     },
     "execution_count": 125,
     "metadata": {},
     "output_type": "execute_result"
    }
   ],
   "source": [
    "multipletests(p, alpha = 0.025, method = 'holm')"
   ]
  },
  {
   "cell_type": "code",
   "execution_count": 129,
   "id": "e64d6e47",
   "metadata": {},
   "outputs": [],
   "source": [
    "z = []\n",
    "for i in data.browser.unique():\n",
    "    s1 = data.query('slot == \"control\" & browser == @i').n_nonclk_queries.sum() / \\\n",
    "    data.query('slot == \"control\" & browser == @i').n_queries.sum() * 100\n",
    "    \n",
    "    s2 = data.query('slot == \"exp\" & browser == @i').n_nonclk_queries.sum() / \\\n",
    "    data.query('slot == \"exp\" & browser == @i').n_queries.sum() * 100\n",
    "    \n",
    "    z.append([s1, s2])"
   ]
  },
  {
   "cell_type": "code",
   "execution_count": 130,
   "id": "6435c31c",
   "metadata": {},
   "outputs": [
    {
     "data": {
      "text/plain": [
       "[[45.96274717919465, 44.982746948554706],\n",
       " [46.97092963514274, 45.14294190358467],\n",
       " [57.59041136008114, 43.755617361273295],\n",
       " [36.29936674628208, 36.93741284866483],\n",
       " [40.540484743383296, 38.97737648371716],\n",
       " [40.593976593513354, 39.85394721969546]]"
      ]
     },
     "execution_count": 130,
     "metadata": {},
     "output_type": "execute_result"
    }
   ],
   "source": [
    "z"
   ]
  },
  {
   "cell_type": "code",
   "execution_count": null,
   "id": "8a1edf03",
   "metadata": {},
   "outputs": [],
   "source": []
  },
  {
   "cell_type": "code",
   "execution_count": null,
   "id": "ec0c3bb7",
   "metadata": {},
   "outputs": [],
   "source": []
  },
  {
   "cell_type": "code",
   "execution_count": null,
   "id": "9aee1844",
   "metadata": {},
   "outputs": [],
   "source": []
  },
  {
   "cell_type": "code",
   "execution_count": null,
   "id": "618f7f78",
   "metadata": {},
   "outputs": [],
   "source": []
  }
 ],
 "metadata": {
  "kernelspec": {
   "display_name": "Python 3",
   "language": "python",
   "name": "python3"
  },
  "language_info": {
   "codemirror_mode": {
    "name": "ipython",
    "version": 3
   },
   "file_extension": ".py",
   "mimetype": "text/x-python",
   "name": "python",
   "nbconvert_exporter": "python",
   "pygments_lexer": "ipython3",
   "version": "3.8.8"
  }
 },
 "nbformat": 4,
 "nbformat_minor": 5
}
