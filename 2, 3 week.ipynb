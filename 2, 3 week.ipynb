{
 "cells": [
  {
   "cell_type": "code",
   "execution_count": 1,
   "metadata": {},
   "outputs": [],
   "source": [
    "import numpy as np"
   ]
  },
  {
   "cell_type": "code",
   "execution_count": 2,
   "metadata": {},
   "outputs": [],
   "source": [
    "import re"
   ]
  },
  {
   "cell_type": "code",
   "execution_count": 3,
   "metadata": {},
   "outputs": [],
   "source": [
    "import scipy"
   ]
  },
  {
   "cell_type": "code",
   "execution_count": 4,
   "metadata": {},
   "outputs": [],
   "source": [
    "import scipy.optimize"
   ]
  },
  {
   "cell_type": "code",
   "execution_count": 5,
   "metadata": {},
   "outputs": [],
   "source": [
    "import math"
   ]
  },
  {
   "cell_type": "code",
   "execution_count": 6,
   "metadata": {},
   "outputs": [],
   "source": [
    "from matplotlib import pyplot as plt"
   ]
  },
  {
   "cell_type": "code",
   "execution_count": null,
   "metadata": {},
   "outputs": [],
   "source": []
  },
  {
   "cell_type": "code",
   "execution_count": null,
   "metadata": {},
   "outputs": [],
   "source": []
  },
  {
   "cell_type": "markdown",
   "metadata": {},
   "source": [
    "# Кошки"
   ]
  },
  {
   "cell_type": "code",
   "execution_count": 33,
   "metadata": {},
   "outputs": [],
   "source": [
    "with open('./sentences.txt', 'r') as f:\n",
    "    data = f.read()"
   ]
  },
  {
   "cell_type": "code",
   "execution_count": 34,
   "metadata": {},
   "outputs": [],
   "source": [
    "sentences = []\n",
    "for i in data.splitlines():\n",
    "    sentences.append(i.lower())"
   ]
  },
  {
   "cell_type": "code",
   "execution_count": 35,
   "metadata": {},
   "outputs": [
    {
     "data": {
      "text/plain": [
       "['in comparison to dogs, cats have not undergone major changes during the domestication process.',\n",
       " 'as cat simply catenates streams of bytes, it can be also used to concatenate binary files, where it will just concatenate sequence of bytes.',\n",
       " 'a common interactive use of cat for a single file is to output the content of a file to standard output.',\n",
       " 'cats can hear sounds too faint or too high in frequency for human ears, such as those made by mice and other small animals.',\n",
       " 'in one, people deliberately tamed cats in a process of artificial selection, as they were useful predators of vermin.',\n",
       " 'the domesticated cat and its closest wild ancestor are both diploid organisms that possess 38 chromosomes and roughly 20,000 genes.',\n",
       " 'domestic cats are similar in size to the other members of the genus felis, typically weighing between 4 and 5 kg (8.8 and 11.0 lb).',\n",
       " 'however, if the output is piped or redirected, cat is unnecessary.',\n",
       " 'cat with one named file is safer where human error is a concern - one wrong use of the default redirection symbol \">\" instead of \"<\" (often adjacent on keyboards) may permanently delete the file you were just needing to read.',\n",
       " 'in terms of legibility, a sequence of commands starting with cat and connected by pipes has a clear left-to-right flow of information.',\n",
       " 'cat command is one of the basic commands that you learned when you started in the unix / linux world.',\n",
       " 'using cat command, the lines received from stdin can be redirected to a new file using redirection symbols.',\n",
       " 'when you type simply cat command without any arguments, it just receives the stdin content and displays it in the stdout.',\n",
       " 'leopard was released on october 26, 2007 as the successor of tiger (version 10.4), and is available in two editions.',\n",
       " 'according to apple, leopard contains over 300 changes and enhancements over its predecessor, mac os x tiger.',\n",
       " 'as of mid 2010, some apple computers have firmware factory installed which will no longer allow installation of mac os x leopard.',\n",
       " 'since apple moved to using intel processors in their computers, the osx86 community has developed and now also allows mac os x tiger and later releases to be installed on non-apple x86-based computers.',\n",
       " \"os x mountain lion was released on july 25, 2012 for purchase and download through apple's mac app store, as part of a switch to releasing os x versions online and every year.\",\n",
       " 'apple has released a small patch for the three most recent versions of safari running on os x yosemite, mavericks, and mountain lion.',\n",
       " 'the mountain lion release marks the second time apple has offered an incremental upgrade, rather than releasing a new cat entirely.',\n",
       " \"mac os x mountain lion installs in place, so you won't need to create a separate disk or run the installation off an external drive.\",\n",
       " \"the fifth major update to mac os x, leopard, contains such a mountain of features - more than 300 by apple's count.\"]"
      ]
     },
     "execution_count": 35,
     "metadata": {},
     "output_type": "execute_result"
    }
   ],
   "source": [
    "sentences"
   ]
  },
  {
   "cell_type": "code",
   "execution_count": 36,
   "metadata": {},
   "outputs": [],
   "source": [
    "slova = set()\n",
    "for i in sentences:\n",
    "    slova = slova | set(re.split('[^a-z]', i))"
   ]
  },
  {
   "cell_type": "code",
   "execution_count": 37,
   "metadata": {
    "scrolled": true
   },
   "outputs": [],
   "source": [
    "if '' in slova:\n",
    "    slova.remove('')\n",
    "slova = list(slova)"
   ]
  },
  {
   "cell_type": "code",
   "execution_count": 38,
   "metadata": {},
   "outputs": [],
   "source": [
    "d = {}\n",
    "for i in range(len(slova)):\n",
    "    d[slova[i]] = i"
   ]
  },
  {
   "cell_type": "code",
   "execution_count": 39,
   "metadata": {},
   "outputs": [
    {
     "data": {
      "text/plain": [
       "254"
      ]
     },
     "execution_count": 39,
     "metadata": {},
     "output_type": "execute_result"
    }
   ],
   "source": [
    "len(slova)"
   ]
  },
  {
   "cell_type": "code",
   "execution_count": 40,
   "metadata": {},
   "outputs": [
    {
     "data": {
      "text/plain": [
       "{'some': 0,\n",
       " 'separate': 1,\n",
       " 'allows': 2,\n",
       " 'download': 3,\n",
       " 'processors': 4,\n",
       " 'to': 5,\n",
       " 'learned': 6,\n",
       " 'leopard': 7,\n",
       " 'fifth': 8,\n",
       " 'vermin': 9,\n",
       " 'members': 10,\n",
       " 'wrong': 11,\n",
       " 'streams': 12,\n",
       " 'however': 13,\n",
       " 'started': 14,\n",
       " 'using': 15,\n",
       " 'major': 16,\n",
       " 'similar': 17,\n",
       " 'you': 18,\n",
       " 'run': 19,\n",
       " 'online': 20,\n",
       " 'july': 21,\n",
       " 'domestic': 22,\n",
       " 'that': 23,\n",
       " 'simply': 24,\n",
       " 'undergone': 25,\n",
       " 'permanently': 26,\n",
       " 'features': 27,\n",
       " 'every': 28,\n",
       " 'single': 29,\n",
       " 'available': 30,\n",
       " 'hear': 31,\n",
       " 'yosemite': 32,\n",
       " 'the': 33,\n",
       " 'often': 34,\n",
       " 's': 35,\n",
       " 'releasing': 36,\n",
       " 'os': 37,\n",
       " 'later': 38,\n",
       " 'common': 39,\n",
       " 'of': 40,\n",
       " 'in': 41,\n",
       " 'versions': 42,\n",
       " 'update': 43,\n",
       " 'released': 44,\n",
       " 'not': 45,\n",
       " 't': 46,\n",
       " 'has': 47,\n",
       " 'longer': 48,\n",
       " 'intel': 49,\n",
       " 'editions': 50,\n",
       " 'concern': 51,\n",
       " 'non': 52,\n",
       " 'people': 53,\n",
       " 'store': 54,\n",
       " 'recent': 55,\n",
       " 'cat': 56,\n",
       " 'standard': 57,\n",
       " 'received': 58,\n",
       " 'upgrade': 59,\n",
       " 'weighing': 60,\n",
       " 'apple': 61,\n",
       " 'between': 62,\n",
       " 'was': 63,\n",
       " 'clear': 64,\n",
       " 'predators': 65,\n",
       " 'second': 66,\n",
       " 'dogs': 67,\n",
       " 'new': 68,\n",
       " 'piped': 69,\n",
       " 'mac': 70,\n",
       " 'purchase': 71,\n",
       " 'unnecessary': 72,\n",
       " 'symbol': 73,\n",
       " 'world': 74,\n",
       " 'such': 75,\n",
       " 'flow': 76,\n",
       " 'most': 77,\n",
       " 'sequence': 78,\n",
       " 'have': 79,\n",
       " 'stdout': 80,\n",
       " 'organisms': 81,\n",
       " 'two': 82,\n",
       " 'may': 83,\n",
       " 'cats': 84,\n",
       " 'now': 85,\n",
       " 'frequency': 86,\n",
       " 'is': 87,\n",
       " 'genes': 88,\n",
       " 'mid': 89,\n",
       " 'will': 90,\n",
       " 'lb': 91,\n",
       " 'needing': 92,\n",
       " 'too': 93,\n",
       " 'kg': 94,\n",
       " 'when': 95,\n",
       " 'faint': 96,\n",
       " 'delete': 97,\n",
       " 'use': 98,\n",
       " 'content': 99,\n",
       " 'ears': 100,\n",
       " 'won': 101,\n",
       " 'off': 102,\n",
       " 'other': 103,\n",
       " 'part': 104,\n",
       " 'based': 105,\n",
       " 'lines': 106,\n",
       " 'more': 107,\n",
       " 'or': 108,\n",
       " 'selection': 109,\n",
       " 'named': 110,\n",
       " 'create': 111,\n",
       " 'so': 112,\n",
       " 'adjacent': 113,\n",
       " 'commands': 114,\n",
       " 'for': 115,\n",
       " 'redirection': 116,\n",
       " 'with': 117,\n",
       " 'terms': 118,\n",
       " 'installation': 119,\n",
       " 'mavericks': 120,\n",
       " 'they': 121,\n",
       " 'also': 122,\n",
       " 'sounds': 123,\n",
       " 'and': 124,\n",
       " 'process': 125,\n",
       " 'useful': 126,\n",
       " 'legibility': 127,\n",
       " 'genus': 128,\n",
       " 'domesticated': 129,\n",
       " 'according': 130,\n",
       " 'allow': 131,\n",
       " 'default': 132,\n",
       " 'community': 133,\n",
       " 'running': 134,\n",
       " 'osx': 135,\n",
       " 'high': 136,\n",
       " 'year': 137,\n",
       " 'place': 138,\n",
       " 'type': 139,\n",
       " 'need': 140,\n",
       " 'bytes': 141,\n",
       " 'are': 142,\n",
       " 'count': 143,\n",
       " 'wild': 144,\n",
       " 'keyboards': 145,\n",
       " 'firmware': 146,\n",
       " 'successor': 147,\n",
       " 'receives': 148,\n",
       " 'command': 149,\n",
       " 'developed': 150,\n",
       " 'incremental': 151,\n",
       " 'possess': 152,\n",
       " 'computers': 153,\n",
       " 'it': 154,\n",
       " 'binary': 155,\n",
       " 'redirected': 156,\n",
       " 'file': 157,\n",
       " 'chromosomes': 158,\n",
       " 'their': 159,\n",
       " 'typically': 160,\n",
       " 'drive': 161,\n",
       " 'mountain': 162,\n",
       " 'right': 163,\n",
       " 'version': 164,\n",
       " 'its': 165,\n",
       " 'no': 166,\n",
       " 'time': 167,\n",
       " 'on': 168,\n",
       " 'release': 169,\n",
       " 'changes': 170,\n",
       " 'deliberately': 171,\n",
       " 'files': 172,\n",
       " 'by': 173,\n",
       " 'artificial': 174,\n",
       " 'left': 175,\n",
       " 'be': 176,\n",
       " 'x': 177,\n",
       " 'a': 178,\n",
       " 'if': 179,\n",
       " 'enhancements': 180,\n",
       " 'during': 181,\n",
       " 'human': 182,\n",
       " 'symbols': 183,\n",
       " 'since': 184,\n",
       " 'entirely': 185,\n",
       " 'information': 186,\n",
       " 'felis': 187,\n",
       " 'switch': 188,\n",
       " 'external': 189,\n",
       " 'one': 190,\n",
       " 'output': 191,\n",
       " 'small': 192,\n",
       " 'releases': 193,\n",
       " 'made': 194,\n",
       " 'interactive': 195,\n",
       " 'just': 196,\n",
       " 'animals': 197,\n",
       " 'moved': 198,\n",
       " 'instead': 199,\n",
       " 'october': 200,\n",
       " 'through': 201,\n",
       " 'than': 202,\n",
       " 'read': 203,\n",
       " 'pipes': 204,\n",
       " 'marks': 205,\n",
       " 'size': 206,\n",
       " 'mice': 207,\n",
       " 'offered': 208,\n",
       " 'app': 209,\n",
       " 'tamed': 210,\n",
       " 'installs': 211,\n",
       " 'linux': 212,\n",
       " 'any': 213,\n",
       " 'as': 214,\n",
       " 'starting': 215,\n",
       " 'contains': 216,\n",
       " 'installed': 217,\n",
       " 'error': 218,\n",
       " 'displays': 219,\n",
       " 'safari': 220,\n",
       " 'unix': 221,\n",
       " 'roughly': 222,\n",
       " 'arguments': 223,\n",
       " 'used': 224,\n",
       " 'diploid': 225,\n",
       " 'basic': 226,\n",
       " 'patch': 227,\n",
       " 'connected': 228,\n",
       " 'disk': 229,\n",
       " 'without': 230,\n",
       " 'tiger': 231,\n",
       " 'predecessor': 232,\n",
       " 'catenates': 233,\n",
       " 'factory': 234,\n",
       " 'which': 235,\n",
       " 'ancestor': 236,\n",
       " 'lion': 237,\n",
       " 'from': 238,\n",
       " 'where': 239,\n",
       " 'stdin': 240,\n",
       " 'both': 241,\n",
       " 'domestication': 242,\n",
       " 'were': 243,\n",
       " 'comparison': 244,\n",
       " 'over': 245,\n",
       " 'three': 246,\n",
       " 'rather': 247,\n",
       " 'those': 248,\n",
       " 'concatenate': 249,\n",
       " 'closest': 250,\n",
       " 'safer': 251,\n",
       " 'an': 252,\n",
       " 'can': 253}"
      ]
     },
     "execution_count": 40,
     "metadata": {},
     "output_type": "execute_result"
    }
   ],
   "source": [
    "d"
   ]
  },
  {
   "cell_type": "code",
   "execution_count": 41,
   "metadata": {},
   "outputs": [],
   "source": [
    "matrix = []\n",
    "for j in sentences: \n",
    "    pred = re.split('[^a-z]', j)\n",
    "    pred = [i for i in pred if i != '']\n",
    "    sp = [0] * len(d)\n",
    "    for z in pred:\n",
    "        sp[d[z]] += 1\n",
    "    matrix.append(sp)    "
   ]
  },
  {
   "cell_type": "code",
   "execution_count": 43,
   "metadata": {},
   "outputs": [],
   "source": [
    "matrix = np.array(matrix)"
   ]
  },
  {
   "cell_type": "code",
   "execution_count": 44,
   "metadata": {},
   "outputs": [
    {
     "data": {
      "text/plain": [
       "array([[0, 0, 0, ..., 0, 0, 0],\n",
       "       [0, 0, 0, ..., 0, 0, 1],\n",
       "       [0, 0, 0, ..., 0, 0, 0],\n",
       "       ...,\n",
       "       [0, 0, 0, ..., 0, 1, 0],\n",
       "       [0, 1, 0, ..., 0, 1, 0],\n",
       "       [0, 0, 0, ..., 0, 0, 0]])"
      ]
     },
     "execution_count": 44,
     "metadata": {},
     "output_type": "execute_result"
    }
   ],
   "source": [
    "matrix"
   ]
  },
  {
   "cell_type": "code",
   "execution_count": 45,
   "metadata": {},
   "outputs": [],
   "source": [
    "otvet = [scipy.spatial.distance.cosine(matrix[0], matrix[i+1]) for i in range(len(matrix)-1)]"
   ]
  },
  {
   "cell_type": "code",
   "execution_count": 48,
   "metadata": {},
   "outputs": [
    {
     "data": {
      "text/plain": [
       "[0.9527544408738466,\n",
       " 0.8644738145642124,\n",
       " 0.8951715163278082,\n",
       " 0.7770887149698589,\n",
       " 0.9402385695332803,\n",
       " 0.7327387580875756,\n",
       " 0.9258750683338899,\n",
       " 0.8842724875284311,\n",
       " 0.9055088817476932,\n",
       " 0.8328165362273942,\n",
       " 0.8804771390665607,\n",
       " 0.8396432548525454,\n",
       " 0.8703592552895671,\n",
       " 0.8740118423302576,\n",
       " 0.9442721787424647,\n",
       " 0.8406361854220809,\n",
       " 0.956644501523794,\n",
       " 0.9442721787424647,\n",
       " 0.8885443574849294,\n",
       " 0.8427572744917122,\n",
       " 0.8250364469440588]"
      ]
     },
     "execution_count": 48,
     "metadata": {},
     "output_type": "execute_result"
    }
   ],
   "source": [
    "otvet"
   ]
  },
  {
   "cell_type": "code",
   "execution_count": 51,
   "metadata": {},
   "outputs": [
    {
     "data": {
      "text/plain": [
       "['in comparison to dogs, cats have not undergone major changes during the domestication process.',\n",
       " 'as cat simply catenates streams of bytes, it can be also used to concatenate binary files, where it will just concatenate sequence of bytes.',\n",
       " 'a common interactive use of cat for a single file is to output the content of a file to standard output.',\n",
       " 'cats can hear sounds too faint or too high in frequency for human ears, such as those made by mice and other small animals.',\n",
       " 'in one, people deliberately tamed cats in a process of artificial selection, as they were useful predators of vermin.',\n",
       " 'the domesticated cat and its closest wild ancestor are both diploid organisms that possess 38 chromosomes and roughly 20,000 genes.',\n",
       " 'domestic cats are similar in size to the other members of the genus felis, typically weighing between 4 and 5 kg (8.8 and 11.0 lb).',\n",
       " 'however, if the output is piped or redirected, cat is unnecessary.',\n",
       " 'cat with one named file is safer where human error is a concern - one wrong use of the default redirection symbol \">\" instead of \"<\" (often adjacent on keyboards) may permanently delete the file you were just needing to read.',\n",
       " 'in terms of legibility, a sequence of commands starting with cat and connected by pipes has a clear left-to-right flow of information.',\n",
       " 'cat command is one of the basic commands that you learned when you started in the unix / linux world.',\n",
       " 'using cat command, the lines received from stdin can be redirected to a new file using redirection symbols.',\n",
       " 'when you type simply cat command without any arguments, it just receives the stdin content and displays it in the stdout.',\n",
       " 'leopard was released on october 26, 2007 as the successor of tiger (version 10.4), and is available in two editions.',\n",
       " 'according to apple, leopard contains over 300 changes and enhancements over its predecessor, mac os x tiger.',\n",
       " 'as of mid 2010, some apple computers have firmware factory installed which will no longer allow installation of mac os x leopard.',\n",
       " 'since apple moved to using intel processors in their computers, the osx86 community has developed and now also allows mac os x tiger and later releases to be installed on non-apple x86-based computers.',\n",
       " \"os x mountain lion was released on july 25, 2012 for purchase and download through apple's mac app store, as part of a switch to releasing os x versions online and every year.\",\n",
       " 'apple has released a small patch for the three most recent versions of safari running on os x yosemite, mavericks, and mountain lion.',\n",
       " 'the mountain lion release marks the second time apple has offered an incremental upgrade, rather than releasing a new cat entirely.',\n",
       " \"mac os x mountain lion installs in place, so you won't need to create a separate disk or run the installation off an external drive.\",\n",
       " \"the fifth major update to mac os x, leopard, contains such a mountain of features - more than 300 by apple's count.\"]"
      ]
     },
     "execution_count": 51,
     "metadata": {},
     "output_type": "execute_result"
    }
   ],
   "source": [
    "sentences"
   ]
  },
  {
   "cell_type": "code",
   "execution_count": 52,
   "metadata": {},
   "outputs": [],
   "source": [
    "with open('./otvet1.txt', 'w') as f:\n",
    "    f.write('4 6')"
   ]
  },
  {
   "cell_type": "markdown",
   "metadata": {},
   "source": [
    "# многочлены"
   ]
  },
  {
   "cell_type": "code",
   "execution_count": 122,
   "metadata": {},
   "outputs": [],
   "source": [
    "x1 = 1\n",
    "x2 = 15\n",
    "x3 = 4\n",
    "x4 = 10"
   ]
  },
  {
   "cell_type": "code",
   "execution_count": 123,
   "metadata": {},
   "outputs": [],
   "source": [
    "def f1(x):\n",
    "    return math.sin(x / 5) * math.exp(x / 10) + 5 * math.exp(-x / 2)"
   ]
  },
  {
   "cell_type": "code",
   "execution_count": 124,
   "metadata": {},
   "outputs": [],
   "source": [
    "a = np.array([[1, x1, x1**2, x1**3], [1, x2, x2**2, x2**3], [1, x3, x3**2, x3**3], [1, x4, x4**2, x4**3]])"
   ]
  },
  {
   "cell_type": "code",
   "execution_count": 125,
   "metadata": {},
   "outputs": [],
   "source": [
    "f = np.array([f1(x1), f1(x2), f1(x3), f1(x4)])\n",
    "f = f.reshape(4,1)"
   ]
  },
  {
   "cell_type": "code",
   "execution_count": 126,
   "metadata": {},
   "outputs": [
    {
     "data": {
      "text/plain": [
       "array([[   1,    1,    1,    1],\n",
       "       [   1,   15,  225, 3375],\n",
       "       [   1,    4,   16,   64],\n",
       "       [   1,   10,  100, 1000]])"
      ]
     },
     "execution_count": 126,
     "metadata": {},
     "output_type": "execute_result"
    }
   ],
   "source": [
    "a"
   ]
  },
  {
   "cell_type": "code",
   "execution_count": 127,
   "metadata": {},
   "outputs": [
    {
     "data": {
      "text/plain": [
       "array([[3.25221687],\n",
       "       [0.63522142],\n",
       "       [1.74684595],\n",
       "       [2.50541641]])"
      ]
     },
     "execution_count": 127,
     "metadata": {},
     "output_type": "execute_result"
    }
   ],
   "source": [
    "f"
   ]
  },
  {
   "cell_type": "code",
   "execution_count": 128,
   "metadata": {
    "scrolled": true
   },
   "outputs": [],
   "source": [
    "w = np.linalg.solve(a, f)"
   ]
  },
  {
   "cell_type": "code",
   "execution_count": 118,
   "metadata": {},
   "outputs": [
    {
     "data": {
      "text/plain": [
       "array([[ 4.65237794],\n",
       "       [-1.67701214],\n",
       "       [ 0.28991565],\n",
       "       [-0.01306459]])"
      ]
     },
     "execution_count": 118,
     "metadata": {},
     "output_type": "execute_result"
    }
   ],
   "source": [
    "w"
   ]
  },
  {
   "cell_type": "code",
   "execution_count": 119,
   "metadata": {},
   "outputs": [],
   "source": [
    "def f2(x):\n",
    "    return 1 * w[0] + x * w[1] + w[2] * x ** 2 + w[3] * x ** 3"
   ]
  },
  {
   "cell_type": "code",
   "execution_count": 137,
   "metadata": {},
   "outputs": [],
   "source": [
    "obl = np.linspace(1, 15,100)"
   ]
  },
  {
   "cell_type": "code",
   "execution_count": 138,
   "metadata": {
    "scrolled": false
   },
   "outputs": [
    {
     "data": {
      "text/plain": [
       "[<matplotlib.lines.Line2D at 0x7fdde7156b50>]"
      ]
     },
     "execution_count": 138,
     "metadata": {},
     "output_type": "execute_result"
    },
    {
     "data": {
      "image/png": "[encoded data removed]",
      "text/plain": [
       "<Figure size 432x288 with 1 Axes>"
      ]
     },
     "metadata": {
      "needs_background": "light"
     },
     "output_type": "display_data"
    }
   ],
   "source": [
    "plt.plot(obl, [f1(i) for i in obl])\n",
    "plt.plot(obl, [f2(i) for i in obl])"
   ]
  },
  {
   "cell_type": "code",
   "execution_count": 139,
   "metadata": {},
   "outputs": [],
   "source": [
    "with open('./otvet2.txt', 'w') as f:\n",
    "    f.write('4.36 -1.30 0.19 -0.01')"
   ]
  },
  {
   "cell_type": "markdown",
   "metadata": {},
   "source": [
    "# Градиент"
   ]
  },
  {
   "cell_type": "code",
   "execution_count": 244,
   "metadata": {},
   "outputs": [],
   "source": [
    "def f1(x):\n",
    "    return math.sin(x / 5) * math.exp(x / 10) + 5 * math.exp(-x / 2)"
   ]
  },
  {
   "cell_type": "code",
   "execution_count": 245,
   "metadata": {},
   "outputs": [
    {
     "data": {
      "text/plain": [
       "[<matplotlib.lines.Line2D at 0x7f819bec9a90>]"
      ]
     },
     "execution_count": 245,
     "metadata": {},
     "output_type": "execute_result"
    },
    {
     "data": {
      "image/png": "[encoded data removed]",
      "text/plain": [
       "<Figure size 432x288 with 1 Axes>"
      ]
     },
     "metadata": {
      "needs_background": "light"
     },
     "output_type": "display_data"
    }
   ],
   "source": [
    "plt.plot(np.linspace(0, 30,200), [f1(i) for i in np.linspace(0, 30,200)])"
   ]
  },
  {
   "cell_type": "code",
   "execution_count": 251,
   "metadata": {
    "scrolled": true
   },
   "outputs": [
    {
     "data": {
      "text/plain": [
       "      fun: 1.7452682903321932\n",
       " hess_inv: array([[6.01546361]])\n",
       "      jac: array([-2.68220901e-07])\n",
       "  message: 'Optimization terminated successfully.'\n",
       "     nfev: 16\n",
       "      nit: 7\n",
       "     njev: 8\n",
       "   status: 0\n",
       "  success: True\n",
       "        x: array([4.13628706])"
      ]
     },
     "execution_count": 251,
     "metadata": {},
     "output_type": "execute_result"
    }
   ],
   "source": [
    "scipy.optimize.minimize(f1, 1)"
   ]
  },
  {
   "cell_type": "code",
   "execution_count": 141,
   "metadata": {},
   "outputs": [
    {
     "data": {
      "text/plain": [
       "      fun: 1.745268290344928\n",
       " hess_inv: array([[5.98750711]])\n",
       "      jac: array([-2.05636024e-06])\n",
       "  message: 'Optimization terminated successfully.'\n",
       "     nfev: 14\n",
       "      nit: 6\n",
       "     njev: 7\n",
       "   status: 0\n",
       "  success: True\n",
       "        x: array([4.13627619])"
      ]
     },
     "execution_count": 141,
     "metadata": {},
     "output_type": "execute_result"
    }
   ],
   "source": [
    "scipy.optimize.minimize(f1, 2)"
   ]
  },
  {
   "cell_type": "code",
   "execution_count": 140,
   "metadata": {},
   "outputs": [
    {
     "data": {
      "text/plain": [
       "      fun: -11.898894665981322\n",
       " hess_inv: array([[1.67940841]])\n",
       "      jac: array([0.])\n",
       "  message: 'Optimization terminated successfully.'\n",
       "     nfev: 14\n",
       "      nit: 6\n",
       "     njev: 7\n",
       "   status: 0\n",
       "  success: True\n",
       "        x: array([25.880193])"
      ]
     },
     "execution_count": 140,
     "metadata": {},
     "output_type": "execute_result"
    }
   ],
   "source": [
    "scipy.optimize.minimize(f1, 30)"
   ]
  },
  {
   "cell_type": "code",
   "execution_count": 272,
   "metadata": {
    "scrolled": true
   },
   "outputs": [
    {
     "data": {
      "text/plain": [
       "      fun: -11.898894665981322\n",
       " hess_inv: array([[1.67940841]])\n",
       "      jac: array([0.])\n",
       "  message: 'Optimization terminated successfully.'\n",
       "     nfev: 14\n",
       "      nit: 6\n",
       "     njev: 7\n",
       "   status: 0\n",
       "  success: True\n",
       "        x: array([25.880193])"
      ]
     },
     "execution_count": 272,
     "metadata": {},
     "output_type": "execute_result"
    }
   ],
   "source": [
    "scipy.optimize.minimize(f1, 30, method='BFGS')"
   ]
  },
  {
   "cell_type": "code",
   "execution_count": 268,
   "metadata": {},
   "outputs": [],
   "source": [
    "with open('./otvet3.txt', 'w') as f:\n",
    "    f.write('1.75 -11.90')"
   ]
  },
  {
   "cell_type": "markdown",
   "metadata": {},
   "source": [
    "# differential_evolution"
   ]
  },
  {
   "cell_type": "code",
   "execution_count": 144,
   "metadata": {
    "scrolled": true
   },
   "outputs": [
    {
     "data": {
      "text/plain": [
       "     fun: -11.898894665970404\n",
       "     jac: array([3.55271338e-06])\n",
       " message: 'Optimization terminated successfully.'\n",
       "    nfev: 66\n",
       "     nit: 3\n",
       " success: True\n",
       "       x: array([25.88019909])"
      ]
     },
     "execution_count": 144,
     "metadata": {},
     "output_type": "execute_result"
    }
   ],
   "source": [
    "scipy.optimize.differential_evolution(f1, [(0, 30)])"
   ]
  },
  {
   "cell_type": "code",
   "execution_count": 282,
   "metadata": {},
   "outputs": [],
   "source": [
    "with open('./otvet4.txt', 'w') as f:\n",
    "    f.write('-11.90')"
   ]
  },
  {
   "cell_type": "markdown",
   "metadata": {},
   "source": [
    "# Негладкая функция"
   ]
  },
  {
   "cell_type": "code",
   "execution_count": 145,
   "metadata": {},
   "outputs": [],
   "source": [
    "def h(x):\n",
    "    return int(f1(x))"
   ]
  },
  {
   "cell_type": "code",
   "execution_count": 146,
   "metadata": {},
   "outputs": [
    {
     "data": {
      "text/plain": [
       "[<matplotlib.lines.Line2D at 0x7fdde724b520>]"
      ]
     },
     "execution_count": 146,
     "metadata": {},
     "output_type": "execute_result"
    },
    {
     "data": {
      "image/png": "[encoded data removed]",
      "text/plain": [
       "<Figure size 432x288 with 1 Axes>"
      ]
     },
     "metadata": {
      "needs_background": "light"
     },
     "output_type": "display_data"
    }
   ],
   "source": [
    "plt.plot(np.linspace(0, 30,200), [h(i) for i in np.linspace(0, 30,200)])"
   ]
  },
  {
   "cell_type": "code",
   "execution_count": 158,
   "metadata": {},
   "outputs": [
    {
     "data": {
      "text/plain": [
       "      fun: -5\n",
       " hess_inv: array([[1]])\n",
       "      jac: array([0.])\n",
       "  message: 'Optimization terminated successfully.'\n",
       "     nfev: 2\n",
       "      nit: 0\n",
       "     njev: 1\n",
       "   status: 0\n",
       "  success: True\n",
       "        x: array([30.])"
      ]
     },
     "execution_count": 158,
     "metadata": {},
     "output_type": "execute_result"
    }
   ],
   "source": [
    "scipy.optimize.minimize(h, 30, method='BFGS')"
   ]
  },
  {
   "cell_type": "code",
   "execution_count": 156,
   "metadata": {},
   "outputs": [
    {
     "data": {
      "text/plain": [
       "     fun: -11.0\n",
       " message: 'Optimization terminated successfully.'\n",
       "    nfev: 107\n",
       "     nit: 6\n",
       " success: True\n",
       "       x: array([24.44273695])"
      ]
     },
     "execution_count": 156,
     "metadata": {},
     "output_type": "execute_result"
    }
   ],
   "source": [
    "scipy.optimize.differential_evolution(h, [(0, 30)])"
   ]
  },
  {
   "cell_type": "code",
   "execution_count": 159,
   "metadata": {},
   "outputs": [],
   "source": [
    "with open('./otvet5.txt', 'w') as f:\n",
    "    f.write('-5 -11.0')"
   ]
  },
  {
   "cell_type": "code",
   "execution_count": null,
   "metadata": {},
   "outputs": [],
   "source": []
  },
  {
   "cell_type": "code",
   "execution_count": null,
   "metadata": {},
   "outputs": [],
   "source": []
  },
  {
   "cell_type": "code",
   "execution_count": null,
   "metadata": {},
   "outputs": [],
   "source": []
  },
  {
   "cell_type": "code",
   "execution_count": null,
   "metadata": {},
   "outputs": [],
   "source": []
  },
  {
   "cell_type": "code",
   "execution_count": null,
   "metadata": {},
   "outputs": [],
   "source": []
  },
  {
   "cell_type": "code",
   "execution_count": null,
   "metadata": {},
   "outputs": [],
   "source": []
  },
  {
   "cell_type": "code",
   "execution_count": null,
   "metadata": {},
   "outputs": [],
   "source": []
  }
 ],
 "metadata": {
  "kernelspec": {
   "display_name": "Python 3",
   "language": "python",
   "name": "python3"
  },
  "language_info": {
   "codemirror_mode": {
    "name": "ipython",
    "version": 3
   },
   "file_extension": ".py",
   "mimetype": "text/x-python",
   "name": "python",
   "nbconvert_exporter": "python",
   "pygments_lexer": "ipython3",
   "version": "3.8.8"
  }
 },
 "nbformat": 4,
 "nbformat_minor": 4
}
