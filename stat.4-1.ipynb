{
 "cells": [
  {
   "cell_type": "code",
   "execution_count": 41,
   "id": "e0f5e03b",
   "metadata": {},
   "outputs": [],
   "source": [
    "import numpy as np\n",
    "import pandas as pd\n",
    "import scipy\n",
    "from statsmodels.stats.weightstats import *\n",
    "import statsmodels.stats.multitest as smm\n",
    "from statsmodels.sandbox.stats.multicomp import multipletests "
   ]
  },
  {
   "cell_type": "code",
   "execution_count": 5,
   "id": "9b3d6a9e",
   "metadata": {},
   "outputs": [
    {
     "name": "stdout",
     "output_type": "stream",
     "text": [
      "Populating the interactive namespace from numpy and matplotlib\n"
     ]
    }
   ],
   "source": [
    "%pylab inline"
   ]
  },
  {
   "cell_type": "code",
   "execution_count": 2,
   "id": "1e109b24",
   "metadata": {},
   "outputs": [],
   "source": [
    "data = pd.read_csv('gene_high_throughput_sequencing.csv')"
   ]
  },
  {
   "cell_type": "code",
   "execution_count": 3,
   "id": "ac33efc6",
   "metadata": {},
   "outputs": [
    {
     "data": {
      "text/html": [
       "<div>\n",
       "<style scoped>\n",
       "    .dataframe tbody tr th:only-of-type {\n",
       "        vertical-align: middle;\n",
       "    }\n",
       "\n",
       "    .dataframe tbody tr th {\n",
       "        vertical-align: top;\n",
       "    }\n",
       "\n",
       "    .dataframe thead th {\n",
       "        text-align: right;\n",
       "    }\n",
       "</style>\n",
       "<table border=\"1\" class=\"dataframe\">\n",
       "  <thead>\n",
       "    <tr style=\"text-align: right;\">\n",
       "      <th></th>\n",
       "      <th>Patient_id</th>\n",
       "      <th>Diagnosis</th>\n",
       "      <th>LOC643837</th>\n",
       "      <th>LOC100130417</th>\n",
       "      <th>SAMD11</th>\n",
       "      <th>NOC2L</th>\n",
       "      <th>KLHL17</th>\n",
       "      <th>PLEKHN1</th>\n",
       "      <th>C1orf170</th>\n",
       "      <th>HES4</th>\n",
       "      <th>...</th>\n",
       "      <th>CLIC2</th>\n",
       "      <th>RPS4Y1</th>\n",
       "      <th>ZFY</th>\n",
       "      <th>PRKY</th>\n",
       "      <th>USP9Y</th>\n",
       "      <th>DDX3Y</th>\n",
       "      <th>CD24</th>\n",
       "      <th>CYorf15B</th>\n",
       "      <th>KDM5D</th>\n",
       "      <th>EIF1AY</th>\n",
       "    </tr>\n",
       "  </thead>\n",
       "  <tbody>\n",
       "    <tr>\n",
       "      <th>0</th>\n",
       "      <td>STT5425_Breast_001_normal</td>\n",
       "      <td>normal</td>\n",
       "      <td>1.257614</td>\n",
       "      <td>2.408148</td>\n",
       "      <td>13.368622</td>\n",
       "      <td>9.494779</td>\n",
       "      <td>20.880435</td>\n",
       "      <td>12.722017</td>\n",
       "      <td>9.494779</td>\n",
       "      <td>54.349694</td>\n",
       "      <td>...</td>\n",
       "      <td>4.761250</td>\n",
       "      <td>1.257614</td>\n",
       "      <td>1.257614</td>\n",
       "      <td>1.257614</td>\n",
       "      <td>1.257614</td>\n",
       "      <td>1.257614</td>\n",
       "      <td>23.268694</td>\n",
       "      <td>1.257614</td>\n",
       "      <td>1.257614</td>\n",
       "      <td>1.257614</td>\n",
       "    </tr>\n",
       "    <tr>\n",
       "      <th>1</th>\n",
       "      <td>STT5427_Breast_023_normal</td>\n",
       "      <td>normal</td>\n",
       "      <td>4.567931</td>\n",
       "      <td>16.602734</td>\n",
       "      <td>42.477752</td>\n",
       "      <td>25.562376</td>\n",
       "      <td>23.221137</td>\n",
       "      <td>11.622386</td>\n",
       "      <td>14.330573</td>\n",
       "      <td>72.445474</td>\n",
       "      <td>...</td>\n",
       "      <td>6.871902</td>\n",
       "      <td>1.815112</td>\n",
       "      <td>1.815112</td>\n",
       "      <td>1.815112</td>\n",
       "      <td>1.815112</td>\n",
       "      <td>1.815112</td>\n",
       "      <td>10.427023</td>\n",
       "      <td>1.815112</td>\n",
       "      <td>1.815112</td>\n",
       "      <td>1.815112</td>\n",
       "    </tr>\n",
       "    <tr>\n",
       "      <th>2</th>\n",
       "      <td>STT5430_Breast_002_normal</td>\n",
       "      <td>normal</td>\n",
       "      <td>2.077597</td>\n",
       "      <td>3.978294</td>\n",
       "      <td>12.863214</td>\n",
       "      <td>13.728915</td>\n",
       "      <td>14.543176</td>\n",
       "      <td>14.141907</td>\n",
       "      <td>6.232790</td>\n",
       "      <td>57.011005</td>\n",
       "      <td>...</td>\n",
       "      <td>7.096343</td>\n",
       "      <td>2.077597</td>\n",
       "      <td>2.077597</td>\n",
       "      <td>2.077597</td>\n",
       "      <td>2.077597</td>\n",
       "      <td>2.077597</td>\n",
       "      <td>22.344226</td>\n",
       "      <td>2.077597</td>\n",
       "      <td>2.077597</td>\n",
       "      <td>2.077597</td>\n",
       "    </tr>\n",
       "    <tr>\n",
       "      <th>3</th>\n",
       "      <td>STT5439_Breast_003_normal</td>\n",
       "      <td>normal</td>\n",
       "      <td>2.066576</td>\n",
       "      <td>8.520713</td>\n",
       "      <td>14.466035</td>\n",
       "      <td>7.823932</td>\n",
       "      <td>8.520713</td>\n",
       "      <td>2.066576</td>\n",
       "      <td>10.870009</td>\n",
       "      <td>53.292034</td>\n",
       "      <td>...</td>\n",
       "      <td>5.200770</td>\n",
       "      <td>2.066576</td>\n",
       "      <td>2.066576</td>\n",
       "      <td>2.066576</td>\n",
       "      <td>2.066576</td>\n",
       "      <td>2.066576</td>\n",
       "      <td>49.295538</td>\n",
       "      <td>2.066576</td>\n",
       "      <td>2.066576</td>\n",
       "      <td>2.066576</td>\n",
       "    </tr>\n",
       "    <tr>\n",
       "      <th>4</th>\n",
       "      <td>STT5441_Breast_004_normal</td>\n",
       "      <td>normal</td>\n",
       "      <td>2.613616</td>\n",
       "      <td>3.434965</td>\n",
       "      <td>12.682222</td>\n",
       "      <td>10.543189</td>\n",
       "      <td>26.688686</td>\n",
       "      <td>12.484822</td>\n",
       "      <td>1.364917</td>\n",
       "      <td>67.140393</td>\n",
       "      <td>...</td>\n",
       "      <td>11.227770</td>\n",
       "      <td>1.364917</td>\n",
       "      <td>1.364917</td>\n",
       "      <td>1.364917</td>\n",
       "      <td>1.364917</td>\n",
       "      <td>1.364917</td>\n",
       "      <td>23.627911</td>\n",
       "      <td>1.364917</td>\n",
       "      <td>1.364917</td>\n",
       "      <td>1.364917</td>\n",
       "    </tr>\n",
       "    <tr>\n",
       "      <th>...</th>\n",
       "      <td>...</td>\n",
       "      <td>...</td>\n",
       "      <td>...</td>\n",
       "      <td>...</td>\n",
       "      <td>...</td>\n",
       "      <td>...</td>\n",
       "      <td>...</td>\n",
       "      <td>...</td>\n",
       "      <td>...</td>\n",
       "      <td>...</td>\n",
       "      <td>...</td>\n",
       "      <td>...</td>\n",
       "      <td>...</td>\n",
       "      <td>...</td>\n",
       "      <td>...</td>\n",
       "      <td>...</td>\n",
       "      <td>...</td>\n",
       "      <td>...</td>\n",
       "      <td>...</td>\n",
       "      <td>...</td>\n",
       "      <td>...</td>\n",
       "    </tr>\n",
       "    <tr>\n",
       "      <th>67</th>\n",
       "      <td>STT5750_Breast_021_DCIS</td>\n",
       "      <td>cancer</td>\n",
       "      <td>1.466240</td>\n",
       "      <td>3.689955</td>\n",
       "      <td>21.331981</td>\n",
       "      <td>19.359546</td>\n",
       "      <td>23.505609</td>\n",
       "      <td>11.576176</td>\n",
       "      <td>11.325851</td>\n",
       "      <td>80.572057</td>\n",
       "      <td>...</td>\n",
       "      <td>2.807635</td>\n",
       "      <td>1.466240</td>\n",
       "      <td>2.807635</td>\n",
       "      <td>1.466240</td>\n",
       "      <td>2.807635</td>\n",
       "      <td>3.689955</td>\n",
       "      <td>18.449777</td>\n",
       "      <td>1.466240</td>\n",
       "      <td>1.466240</td>\n",
       "      <td>1.466240</td>\n",
       "    </tr>\n",
       "    <tr>\n",
       "      <th>68</th>\n",
       "      <td>STT5751_Breast_021_IDC</td>\n",
       "      <td>cancer</td>\n",
       "      <td>2.492410</td>\n",
       "      <td>12.279444</td>\n",
       "      <td>30.087759</td>\n",
       "      <td>17.703926</td>\n",
       "      <td>26.064890</td>\n",
       "      <td>10.707081</td>\n",
       "      <td>11.520120</td>\n",
       "      <td>65.041865</td>\n",
       "      <td>...</td>\n",
       "      <td>2.492410</td>\n",
       "      <td>2.492410</td>\n",
       "      <td>1.301619</td>\n",
       "      <td>3.275668</td>\n",
       "      <td>1.301619</td>\n",
       "      <td>1.301619</td>\n",
       "      <td>8.601194</td>\n",
       "      <td>1.301619</td>\n",
       "      <td>1.301619</td>\n",
       "      <td>1.301619</td>\n",
       "    </tr>\n",
       "    <tr>\n",
       "      <th>69</th>\n",
       "      <td>STT5758_Breast_022_IDC</td>\n",
       "      <td>cancer</td>\n",
       "      <td>3.530477</td>\n",
       "      <td>20.006038</td>\n",
       "      <td>53.924651</td>\n",
       "      <td>25.449565</td>\n",
       "      <td>30.949995</td>\n",
       "      <td>16.794696</td>\n",
       "      <td>17.121366</td>\n",
       "      <td>70.958462</td>\n",
       "      <td>...</td>\n",
       "      <td>1.176826</td>\n",
       "      <td>1.176826</td>\n",
       "      <td>1.176826</td>\n",
       "      <td>2.961613</td>\n",
       "      <td>1.176826</td>\n",
       "      <td>1.176826</td>\n",
       "      <td>10.764365</td>\n",
       "      <td>1.176826</td>\n",
       "      <td>1.176826</td>\n",
       "      <td>1.176826</td>\n",
       "    </tr>\n",
       "    <tr>\n",
       "      <th>70</th>\n",
       "      <td>STT5763_Breast_022_IDC</td>\n",
       "      <td>cancer</td>\n",
       "      <td>3.733734</td>\n",
       "      <td>8.860505</td>\n",
       "      <td>32.538666</td>\n",
       "      <td>21.585069</td>\n",
       "      <td>24.987992</td>\n",
       "      <td>11.460224</td>\n",
       "      <td>11.201202</td>\n",
       "      <td>67.767125</td>\n",
       "      <td>...</td>\n",
       "      <td>2.840946</td>\n",
       "      <td>1.483635</td>\n",
       "      <td>1.483635</td>\n",
       "      <td>1.483635</td>\n",
       "      <td>1.483635</td>\n",
       "      <td>1.483635</td>\n",
       "      <td>8.522837</td>\n",
       "      <td>1.483635</td>\n",
       "      <td>1.483635</td>\n",
       "      <td>1.483635</td>\n",
       "    </tr>\n",
       "    <tr>\n",
       "      <th>71</th>\n",
       "      <td>STT5825_Breast_024_IDC</td>\n",
       "      <td>cancer</td>\n",
       "      <td>0.833898</td>\n",
       "      <td>18.084880</td>\n",
       "      <td>60.584449</td>\n",
       "      <td>29.659104</td>\n",
       "      <td>31.093687</td>\n",
       "      <td>13.298860</td>\n",
       "      <td>11.010397</td>\n",
       "      <td>55.771485</td>\n",
       "      <td>...</td>\n",
       "      <td>3.698096</td>\n",
       "      <td>1.596792</td>\n",
       "      <td>1.596792</td>\n",
       "      <td>3.698096</td>\n",
       "      <td>0.833898</td>\n",
       "      <td>0.833898</td>\n",
       "      <td>13.978672</td>\n",
       "      <td>0.833898</td>\n",
       "      <td>2.848303</td>\n",
       "      <td>0.833898</td>\n",
       "    </tr>\n",
       "  </tbody>\n",
       "</table>\n",
       "<p>72 rows × 15750 columns</p>\n",
       "</div>"
      ],
      "text/plain": [
       "                   Patient_id Diagnosis  LOC643837  LOC100130417     SAMD11  \\\n",
       "0   STT5425_Breast_001_normal    normal   1.257614      2.408148  13.368622   \n",
       "1   STT5427_Breast_023_normal    normal   4.567931     16.602734  42.477752   \n",
       "2   STT5430_Breast_002_normal    normal   2.077597      3.978294  12.863214   \n",
       "3   STT5439_Breast_003_normal    normal   2.066576      8.520713  14.466035   \n",
       "4   STT5441_Breast_004_normal    normal   2.613616      3.434965  12.682222   \n",
       "..                        ...       ...        ...           ...        ...   \n",
       "67    STT5750_Breast_021_DCIS    cancer   1.466240      3.689955  21.331981   \n",
       "68     STT5751_Breast_021_IDC    cancer   2.492410     12.279444  30.087759   \n",
       "69     STT5758_Breast_022_IDC    cancer   3.530477     20.006038  53.924651   \n",
       "70     STT5763_Breast_022_IDC    cancer   3.733734      8.860505  32.538666   \n",
       "71     STT5825_Breast_024_IDC    cancer   0.833898     18.084880  60.584449   \n",
       "\n",
       "        NOC2L     KLHL17    PLEKHN1   C1orf170       HES4  ...      CLIC2  \\\n",
       "0    9.494779  20.880435  12.722017   9.494779  54.349694  ...   4.761250   \n",
       "1   25.562376  23.221137  11.622386  14.330573  72.445474  ...   6.871902   \n",
       "2   13.728915  14.543176  14.141907   6.232790  57.011005  ...   7.096343   \n",
       "3    7.823932   8.520713   2.066576  10.870009  53.292034  ...   5.200770   \n",
       "4   10.543189  26.688686  12.484822   1.364917  67.140393  ...  11.227770   \n",
       "..        ...        ...        ...        ...        ...  ...        ...   \n",
       "67  19.359546  23.505609  11.576176  11.325851  80.572057  ...   2.807635   \n",
       "68  17.703926  26.064890  10.707081  11.520120  65.041865  ...   2.492410   \n",
       "69  25.449565  30.949995  16.794696  17.121366  70.958462  ...   1.176826   \n",
       "70  21.585069  24.987992  11.460224  11.201202  67.767125  ...   2.840946   \n",
       "71  29.659104  31.093687  13.298860  11.010397  55.771485  ...   3.698096   \n",
       "\n",
       "      RPS4Y1       ZFY      PRKY     USP9Y     DDX3Y       CD24  CYorf15B  \\\n",
       "0   1.257614  1.257614  1.257614  1.257614  1.257614  23.268694  1.257614   \n",
       "1   1.815112  1.815112  1.815112  1.815112  1.815112  10.427023  1.815112   \n",
       "2   2.077597  2.077597  2.077597  2.077597  2.077597  22.344226  2.077597   \n",
       "3   2.066576  2.066576  2.066576  2.066576  2.066576  49.295538  2.066576   \n",
       "4   1.364917  1.364917  1.364917  1.364917  1.364917  23.627911  1.364917   \n",
       "..       ...       ...       ...       ...       ...        ...       ...   \n",
       "67  1.466240  2.807635  1.466240  2.807635  3.689955  18.449777  1.466240   \n",
       "68  2.492410  1.301619  3.275668  1.301619  1.301619   8.601194  1.301619   \n",
       "69  1.176826  1.176826  2.961613  1.176826  1.176826  10.764365  1.176826   \n",
       "70  1.483635  1.483635  1.483635  1.483635  1.483635   8.522837  1.483635   \n",
       "71  1.596792  1.596792  3.698096  0.833898  0.833898  13.978672  0.833898   \n",
       "\n",
       "       KDM5D    EIF1AY  \n",
       "0   1.257614  1.257614  \n",
       "1   1.815112  1.815112  \n",
       "2   2.077597  2.077597  \n",
       "3   2.066576  2.066576  \n",
       "4   1.364917  1.364917  \n",
       "..       ...       ...  \n",
       "67  1.466240  1.466240  \n",
       "68  1.301619  1.301619  \n",
       "69  1.176826  1.176826  \n",
       "70  1.483635  1.483635  \n",
       "71  2.848303  0.833898  \n",
       "\n",
       "[72 rows x 15750 columns]"
      ]
     },
     "execution_count": 3,
     "metadata": {},
     "output_type": "execute_result"
    }
   ],
   "source": [
    "data"
   ]
  },
  {
   "cell_type": "code",
   "execution_count": 18,
   "id": "79f9f957",
   "metadata": {},
   "outputs": [],
   "source": [
    "ne = scipy.stats.ttest_ind(data[data.Diagnosis == 'normal'].drop(['Patient_id', 'Diagnosis'], axis=1), \n",
    "                      data[data.Diagnosis == 'early neoplasia'].drop(['Patient_id', 'Diagnosis'], axis=1),\n",
    "                      equal_var = False)\n",
    "ec = scipy.stats.ttest_ind(data[data.Diagnosis == 'early neoplasia'].drop(['Patient_id', 'Diagnosis'], axis=1), \n",
    "                      data[data.Diagnosis == 'cancer'].drop(['Patient_id', 'Diagnosis'], axis=1),\n",
    "                      equal_var = False)"
   ]
  },
  {
   "cell_type": "code",
   "execution_count": 28,
   "id": "9f2d7845",
   "metadata": {},
   "outputs": [
    {
     "data": {
      "text/plain": [
       "1575"
      ]
     },
     "execution_count": 28,
     "metadata": {},
     "output_type": "execute_result"
    }
   ],
   "source": [
    "sum(ne[1] < 0.05)"
   ]
  },
  {
   "cell_type": "code",
   "execution_count": 29,
   "id": "7d9cb193",
   "metadata": {},
   "outputs": [
    {
     "data": {
      "text/plain": [
       "15748"
      ]
     },
     "execution_count": 29,
     "metadata": {},
     "output_type": "execute_result"
    }
   ],
   "source": [
    "len(ne[1])"
   ]
  },
  {
   "cell_type": "code",
   "execution_count": 32,
   "id": "1b91c730",
   "metadata": {},
   "outputs": [
    {
     "data": {
      "text/plain": [
       "3490"
      ]
     },
     "execution_count": 32,
     "metadata": {},
     "output_type": "execute_result"
    }
   ],
   "source": [
    "sum(ec[1] < 0.05)"
   ]
  },
  {
   "cell_type": "code",
   "execution_count": 36,
   "id": "20960504",
   "metadata": {},
   "outputs": [],
   "source": [
    "with open('otvet1.txt', 'w') as f:\n",
    "    f.write('1575')"
   ]
  },
  {
   "cell_type": "code",
   "execution_count": 37,
   "id": "e1043651",
   "metadata": {},
   "outputs": [],
   "source": [
    "with open('otvet2.txt', 'w') as f:\n",
    "    f.write('3490')"
   ]
  },
  {
   "cell_type": "code",
   "execution_count": 67,
   "id": "5ca34aba",
   "metadata": {},
   "outputs": [
    {
     "data": {
      "text/plain": [
       "array([1.        , 0.50017368, 1.        , ..., 1.        , 1.        ,\n",
       "       1.        ])"
      ]
     },
     "execution_count": 67,
     "metadata": {},
     "output_type": "execute_result"
    }
   ],
   "source": [
    "multipletests(ne[1], alpha = 0.025, method = 'holm')[1]"
   ]
  },
  {
   "cell_type": "code",
   "execution_count": 83,
   "id": "5b75eda7",
   "metadata": {},
   "outputs": [],
   "source": [
    "s1 = [i for i, el in enumerate(multipletests(ne[1], alpha = 0.05, method = 'holm')[1]) if el < 0.025]"
   ]
  },
  {
   "cell_type": "code",
   "execution_count": 84,
   "id": "e03ea28f",
   "metadata": {},
   "outputs": [],
   "source": [
    "s2 = [i for i, el in enumerate(multipletests(ec[1], alpha = 0.05, method = 'holm')[1]) if el < 0.025]"
   ]
  },
  {
   "cell_type": "code",
   "execution_count": 85,
   "id": "bd75e0cd",
   "metadata": {},
   "outputs": [
    {
     "data": {
      "text/plain": [
       "[7244, 9820]"
      ]
     },
     "execution_count": 85,
     "metadata": {},
     "output_type": "execute_result"
    }
   ],
   "source": [
    "s1"
   ]
  },
  {
   "cell_type": "code",
   "execution_count": 91,
   "id": "9842ac86",
   "metadata": {},
   "outputs": [
    {
     "data": {
      "text/plain": [
       "14.983424243666663"
      ]
     },
     "execution_count": 91,
     "metadata": {},
     "output_type": "execute_result"
    }
   ],
   "source": [
    "data[data.Diagnosis == 'normal'].drop(['Patient_id', 'Diagnosis'], axis=1).mean()[7244]"
   ]
  },
  {
   "cell_type": "code",
   "execution_count": 92,
   "id": "a7e90360",
   "metadata": {},
   "outputs": [
    {
     "data": {
      "text/plain": [
       "22.621756394399995"
      ]
     },
     "execution_count": 92,
     "metadata": {},
     "output_type": "execute_result"
    }
   ],
   "source": [
    "data[data.Diagnosis == 'early neoplasia'].drop(['Patient_id', 'Diagnosis'], axis=1).mean()[7244]"
   ]
  },
  {
   "cell_type": "code",
   "execution_count": 101,
   "id": "88446ea2",
   "metadata": {},
   "outputs": [
    {
     "name": "stdout",
     "output_type": "stream",
     "text": [
      "2\n"
     ]
    }
   ],
   "source": [
    "c = 0\n",
    "for i in s1:\n",
    "    if not (1/1.5 < (data[data.Diagnosis == 'normal'].drop(['Patient_id', 'Diagnosis'], axis=1).mean()[i] / \n",
    "       data[data.Diagnosis == 'early neoplasia'].drop(['Patient_id', 'Diagnosis'], axis=1).mean()[i]) < 1.5):\n",
    "        c += 1\n",
    "print(c)    "
   ]
  },
  {
   "cell_type": "code",
   "execution_count": 102,
   "id": "e796792f",
   "metadata": {},
   "outputs": [
    {
     "name": "stdout",
     "output_type": "stream",
     "text": [
      "77\n"
     ]
    }
   ],
   "source": [
    "c = 0\n",
    "for i in s2:\n",
    "    if not (1/1.5 < (data[data.Diagnosis == 'early neoplasia'].drop(['Patient_id', 'Diagnosis'], axis=1).mean()[i] / \n",
    "       data[data.Diagnosis == 'cancer'].drop(['Patient_id', 'Diagnosis'], axis=1).mean()[i]) < 1.5):\n",
    "        c += 1\n",
    "print(c)    "
   ]
  },
  {
   "cell_type": "code",
   "execution_count": 103,
   "id": "b53207e7",
   "metadata": {},
   "outputs": [],
   "source": [
    "with open('otvet3.txt', 'w') as f:\n",
    "    f.write('2')"
   ]
  },
  {
   "cell_type": "code",
   "execution_count": 104,
   "id": "c9bec33b",
   "metadata": {},
   "outputs": [],
   "source": [
    "with open('otvet4.txt', 'w') as f:\n",
    "    f.write('77')"
   ]
  },
  {
   "cell_type": "code",
   "execution_count": 108,
   "id": "eee7fe50",
   "metadata": {},
   "outputs": [
    {
     "data": {
      "text/plain": [
       "1231"
      ]
     },
     "execution_count": 108,
     "metadata": {},
     "output_type": "execute_result"
    }
   ],
   "source": [
    "sum(multipletests(ec[1], alpha = 0.05, method = 'fdr_bh')[0])"
   ]
  },
  {
   "cell_type": "code",
   "execution_count": 117,
   "id": "21f8cddb",
   "metadata": {},
   "outputs": [],
   "source": [
    "s3 = [i for i, el in enumerate(multipletests(ne[1], alpha = 0.05, method = 'fdr_bh')[1]) if el < 0.025]"
   ]
  },
  {
   "cell_type": "code",
   "execution_count": 129,
   "id": "65eb8f95",
   "metadata": {},
   "outputs": [],
   "source": [
    "s4 = [i for i, el in enumerate(multipletests(ec[1], alpha = 0.025, method = 'fdr_bh')[1]) if el < 0.025]"
   ]
  },
  {
   "cell_type": "code",
   "execution_count": 119,
   "id": "12a12a65",
   "metadata": {},
   "outputs": [
    {
     "name": "stdout",
     "output_type": "stream",
     "text": [
      "4\n"
     ]
    }
   ],
   "source": [
    "c = 0\n",
    "for i in s3:\n",
    "    if not (1/1.5 < (data[data.Diagnosis == 'normal'].drop(['Patient_id', 'Diagnosis'], axis=1).mean()[i] / \n",
    "       data[data.Diagnosis == 'early neoplasia'].drop(['Patient_id', 'Diagnosis'], axis=1).mean()[i]) < 1.5):\n",
    "        c += 1\n",
    "print(c) "
   ]
  },
  {
   "cell_type": "code",
   "execution_count": 133,
   "id": "4330d3d6",
   "metadata": {},
   "outputs": [],
   "source": [
    "a = data[data.Diagnosis == 'early neoplasia'].drop(['Patient_id', 'Diagnosis'], axis=1).mean()\n",
    "b = data[data.Diagnosis == 'cancer'].drop(['Patient_id', 'Diagnosis'], axis=1).mean()     "
   ]
  },
  {
   "cell_type": "code",
   "execution_count": 134,
   "id": "58e4b9bd",
   "metadata": {},
   "outputs": [
    {
     "data": {
      "text/plain": [
       "832"
      ]
     },
     "execution_count": 134,
     "metadata": {},
     "output_type": "execute_result"
    }
   ],
   "source": [
    "len(s4)"
   ]
  },
  {
   "cell_type": "code",
   "execution_count": 135,
   "id": "c4c500d7",
   "metadata": {},
   "outputs": [
    {
     "name": "stdout",
     "output_type": "stream",
     "text": [
      "524\n"
     ]
    }
   ],
   "source": [
    "c = 0\n",
    "for i in s4:\n",
    "    if not (1/1.5 < (a[i] / b[i]) < 1.5):\n",
    "        c += 1\n",
    "print(c) "
   ]
  },
  {
   "cell_type": "code",
   "execution_count": 124,
   "id": "34bb987e",
   "metadata": {},
   "outputs": [],
   "source": [
    "with open('otvet5.txt', 'w') as f:\n",
    "    f.write('4')"
   ]
  },
  {
   "cell_type": "code",
   "execution_count": 136,
   "id": "467439eb",
   "metadata": {},
   "outputs": [],
   "source": [
    "with open('otvet6.txt', 'w') as f:\n",
    "    f.write('524')"
   ]
  },
  {
   "cell_type": "code",
   "execution_count": null,
   "id": "5c6e90eb",
   "metadata": {},
   "outputs": [],
   "source": []
  }
 ],
 "metadata": {
  "kernelspec": {
   "display_name": "Python 3",
   "language": "python",
   "name": "python3"
  },
  "language_info": {
   "codemirror_mode": {
    "name": "ipython",
    "version": 3
   },
   "file_extension": ".py",
   "mimetype": "text/x-python",
   "name": "python",
   "nbconvert_exporter": "python",
   "pygments_lexer": "ipython3",
   "version": "3.8.8"
  }
 },
 "nbformat": 4,
 "nbformat_minor": 5
}
