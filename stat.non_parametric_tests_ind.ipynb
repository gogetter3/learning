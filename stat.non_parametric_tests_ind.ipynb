{
 "cells": [
  {
   "cell_type": "markdown",
   "metadata": {},
   "source": [
    "# Непараметрические криетрии"
   ]
  },
  {
   "cell_type": "markdown",
   "metadata": {},
   "source": [
    "  Критерий | Одновыборочный | Двухвыборочный | Двухвыборочный (связанные выборки)  \n",
    "  ------------- | -------------|\n",
    "  **Знаков**  | $\\times$ | | $\\times$ \n",
    "  **Ранговый** | $\\times$  | $\\times$ | $\\times$  \n",
    "  **Перестановочный** | $\\times$  | $\\times$ | $\\times$ "
   ]
  },
  {
   "cell_type": "markdown",
   "metadata": {},
   "source": [
    "## Недвижимость в Сиэттле"
   ]
  },
  {
   "cell_type": "markdown",
   "metadata": {},
   "source": [
    "Имеются данные о продажной стоимости недвижимости в Сиэтле для 50 сделок в 2001 году и 50 в 2002. Изменились ли в среднем цены?"
   ]
  },
  {
   "cell_type": "code",
   "execution_count": 73,
   "metadata": {
    "scrolled": true
   },
   "outputs": [],
   "source": [
    "import numpy as np\n",
    "import pandas as pd\n",
    "import itertools\n",
    "\n",
    "from scipy import stats\n",
    "from statsmodels.stats.descriptivestats import sign_test\n",
    "from statsmodels.stats.weightstats import zconfint\n",
    "from statsmodels.stats.weightstats import *"
   ]
  },
  {
   "cell_type": "code",
   "execution_count": 74,
   "metadata": {
    "scrolled": true
   },
   "outputs": [
    {
     "name": "stdout",
     "output_type": "stream",
     "text": [
      "Populating the interactive namespace from numpy and matplotlib\n"
     ]
    }
   ],
   "source": [
    "%pylab inline"
   ]
  },
  {
   "cell_type": "markdown",
   "metadata": {},
   "source": [
    "### Загрузка данных"
   ]
  },
  {
   "cell_type": "code",
   "execution_count": 75,
   "metadata": {
    "scrolled": true
   },
   "outputs": [],
   "source": [
    "seattle_data = pd.read_csv('seattle.txt', sep = '\\t', header = 0)"
   ]
  },
  {
   "cell_type": "code",
   "execution_count": 76,
   "metadata": {
    "scrolled": true
   },
   "outputs": [
    {
     "data": {
      "text/plain": [
       "(100, 2)"
      ]
     },
     "execution_count": 76,
     "metadata": {},
     "output_type": "execute_result"
    }
   ],
   "source": [
    "seattle_data.shape"
   ]
  },
  {
   "cell_type": "code",
   "execution_count": 77,
   "metadata": {
    "scrolled": true
   },
   "outputs": [
    {
     "data": {
      "text/html": [
       "<div>\n",
       "<style scoped>\n",
       "    .dataframe tbody tr th:only-of-type {\n",
       "        vertical-align: middle;\n",
       "    }\n",
       "\n",
       "    .dataframe tbody tr th {\n",
       "        vertical-align: top;\n",
       "    }\n",
       "\n",
       "    .dataframe thead th {\n",
       "        text-align: right;\n",
       "    }\n",
       "</style>\n",
       "<table border=\"1\" class=\"dataframe\">\n",
       "  <thead>\n",
       "    <tr style=\"text-align: right;\">\n",
       "      <th></th>\n",
       "      <th>Price</th>\n",
       "      <th>Year</th>\n",
       "    </tr>\n",
       "  </thead>\n",
       "  <tbody>\n",
       "    <tr>\n",
       "      <th>0</th>\n",
       "      <td>142.0</td>\n",
       "      <td>2002</td>\n",
       "    </tr>\n",
       "    <tr>\n",
       "      <th>1</th>\n",
       "      <td>232.0</td>\n",
       "      <td>2002</td>\n",
       "    </tr>\n",
       "    <tr>\n",
       "      <th>2</th>\n",
       "      <td>132.5</td>\n",
       "      <td>2002</td>\n",
       "    </tr>\n",
       "    <tr>\n",
       "      <th>3</th>\n",
       "      <td>200.0</td>\n",
       "      <td>2002</td>\n",
       "    </tr>\n",
       "    <tr>\n",
       "      <th>4</th>\n",
       "      <td>362.0</td>\n",
       "      <td>2002</td>\n",
       "    </tr>\n",
       "  </tbody>\n",
       "</table>\n",
       "</div>"
      ],
      "text/plain": [
       "   Price  Year\n",
       "0  142.0  2002\n",
       "1  232.0  2002\n",
       "2  132.5  2002\n",
       "3  200.0  2002\n",
       "4  362.0  2002"
      ]
     },
     "execution_count": 77,
     "metadata": {},
     "output_type": "execute_result"
    }
   ],
   "source": [
    "seattle_data.head()"
   ]
  },
  {
   "cell_type": "code",
   "execution_count": 78,
   "metadata": {
    "scrolled": true
   },
   "outputs": [],
   "source": [
    "price2001 = seattle_data[seattle_data['Year']  == 2001].Price\n",
    "price2002 = seattle_data[seattle_data['Year']  == 2002].Price"
   ]
  },
  {
   "cell_type": "code",
   "execution_count": 79,
   "metadata": {
    "scrolled": true
   },
   "outputs": [
    {
     "data": {
      "image/png": "[encoded data removed]",
      "text/plain": [
       "<Figure size 864x288 with 2 Axes>"
      ]
     },
     "metadata": {
      "needs_background": "light"
     },
     "output_type": "display_data"
    }
   ],
   "source": [
    "pylab.figure(figsize=(12,4))\n",
    "\n",
    "pylab.subplot(1,2,1)\n",
    "pylab.grid()\n",
    "pylab.hist(price2001, color = 'r')\n",
    "pylab.xlabel('2001')\n",
    "\n",
    "pylab.subplot(1,2,2)\n",
    "pylab.grid()\n",
    "pylab.hist(price2002, color = 'b')\n",
    "pylab.xlabel('2002')\n",
    "\n",
    "pylab.show()"
   ]
  },
  {
   "cell_type": "markdown",
   "metadata": {},
   "source": [
    "## Двухвыборочные критерии для независимых выборок"
   ]
  },
  {
   "cell_type": "code",
   "execution_count": 82,
   "metadata": {
    "scrolled": true
   },
   "outputs": [
    {
     "name": "stdout",
     "output_type": "stream",
     "text": [
      "95% confidence interval for the mean: [245.193581, 332.659499]\n"
     ]
    }
   ],
   "source": [
    "print('95%% confidence interval for the mean: [%f, %f]' % zconfint(price2001))"
   ]
  },
  {
   "cell_type": "code",
   "execution_count": 83,
   "metadata": {
    "scrolled": true
   },
   "outputs": [
    {
     "name": "stdout",
     "output_type": "stream",
     "text": [
      "95% confidence interval for the mean: [241.437946, 417.076334]\n"
     ]
    }
   ],
   "source": [
    "print('95%% confidence interval for the mean: [%f, %f]' % zconfint(price2002))"
   ]
  },
  {
   "cell_type": "markdown",
   "metadata": {},
   "source": [
    "### Ранговый критерий Манна-Уитни"
   ]
  },
  {
   "cell_type": "markdown",
   "metadata": {},
   "source": [
    "$H_0\\colon F_{X_1}(x) = F_{X_2}(x)$\n",
    "\n",
    "$H_1\\colon F_{X_1}(x) = F_{X_2}(x + \\Delta), \\Delta\\neq 0$"
   ]
  },
  {
   "cell_type": "code",
   "execution_count": 84,
   "metadata": {
    "scrolled": true
   },
   "outputs": [
    {
     "data": {
      "text/plain": [
       "MannwhitneyuResult(statistic=1204.5, pvalue=0.3781936337850874)"
      ]
     },
     "execution_count": 84,
     "metadata": {},
     "output_type": "execute_result"
    }
   ],
   "source": [
    "stats.mannwhitneyu(price2001, price2002)"
   ]
  },
  {
   "cell_type": "markdown",
   "metadata": {},
   "source": [
    "### Перестановочный критерий"
   ]
  },
  {
   "cell_type": "markdown",
   "metadata": {
    "collapsed": true
   },
   "source": [
    "$H_0\\colon F_{X_1}(x) = F_{X_2}(x)$\n",
    "\n",
    "$H_1\\colon F_{X_1}(x) = F_{X_2}(x + \\Delta), \\Delta\\neq 0$"
   ]
  },
  {
   "cell_type": "code",
   "execution_count": 85,
   "metadata": {
    "scrolled": true
   },
   "outputs": [],
   "source": [
    "def permutation_t_stat_ind(sample1, sample2):\n",
    "    return np.mean(sample1) - np.mean(sample2)"
   ]
  },
  {
   "cell_type": "code",
   "execution_count": null,
   "metadata": {},
   "outputs": [],
   "source": []
  },
  {
   "cell_type": "code",
   "execution_count": 91,
   "metadata": {},
   "outputs": [],
   "source": [
    "index = range(20)\n",
    "indices = set([tuple(index)])"
   ]
  },
  {
   "cell_type": "code",
   "execution_count": 92,
   "metadata": {},
   "outputs": [
    {
     "data": {
      "text/plain": [
       "{(0, 1, 2, 3, 4, 5, 6, 7, 8, 9, 10, 11, 12, 13, 14, 15, 16, 17, 18, 19)}"
      ]
     },
     "execution_count": 92,
     "metadata": {},
     "output_type": "execute_result"
    }
   ],
   "source": [
    "indices"
   ]
  },
  {
   "cell_type": "code",
   "execution_count": null,
   "metadata": {},
   "outputs": [],
   "source": []
  },
  {
   "cell_type": "code",
   "execution_count": null,
   "metadata": {},
   "outputs": [],
   "source": []
  },
  {
   "cell_type": "code",
   "execution_count": 96,
   "metadata": {
    "scrolled": true
   },
   "outputs": [],
   "source": [
    "def get_random_combinations(n1, n2, max_combinations):\n",
    "    index = np.arange(n1 + n2)\n",
    "    indices = set([tuple(index)])\n",
    "    for i in range(max_combinations - 1):\n",
    "        np.random.shuffle(index)\n",
    "        indices.add(tuple(index))\n",
    "    return [(index[:n1], index[n1:]) for index in indices]"
   ]
  },
  {
   "cell_type": "code",
   "execution_count": 87,
   "metadata": {
    "scrolled": true
   },
   "outputs": [],
   "source": [
    "def permutation_zero_dist_ind(sample1, sample2, max_combinations = None):\n",
    "    joined_sample = np.hstack((sample1, sample2))\n",
    "    n1 = len(sample1)\n",
    "    n = len(joined_sample)\n",
    "    \n",
    "    if max_combinations:\n",
    "        indices = get_random_combinations(n1, len(sample2), max_combinations)\n",
    "    else:\n",
    "        indices = [(list(index), filter(lambda i: i not in index, range(n))) \\\n",
    "                    for index in itertools.combinations(range(n), n1)]\n",
    "    \n",
    "    distr = [joined_sample[list(i[0])].mean() - joined_sample[list(i[1])].mean() \\\n",
    "             for i in indices]\n",
    "    return distr"
   ]
  },
  {
   "cell_type": "code",
   "execution_count": 97,
   "metadata": {
    "scrolled": true
   },
   "outputs": [
    {
     "data": {
      "image/png": "[encoded data removed]",
      "text/plain": [
       "<Figure size 432x288 with 1 Axes>"
      ]
     },
     "metadata": {
      "needs_background": "light"
     },
     "output_type": "display_data"
    }
   ],
   "source": [
    "pylab.hist(permutation_zero_dist_ind(price2001, price2002, max_combinations = 1000))\n",
    "pylab.show()"
   ]
  },
  {
   "cell_type": "code",
   "execution_count": 89,
   "metadata": {
    "scrolled": true
   },
   "outputs": [],
   "source": [
    "def permutation_test(sample, mean, max_permutations = None, alternative = 'two-sided'):\n",
    "    if alternative not in ('two-sided', 'less', 'greater'):\n",
    "        raise ValueError(\"alternative not recognized\\n\"\n",
    "                         \"should be 'two-sided', 'less' or 'greater'\")\n",
    "    \n",
    "    t_stat = permutation_t_stat_ind(sample, mean)\n",
    "    \n",
    "    zero_distr = permutation_zero_dist_ind(sample, mean, max_permutations)\n",
    "    \n",
    "    if alternative == 'two-sided':\n",
    "        return sum([1. if abs(x) >= abs(t_stat) else 0. for x in zero_distr]) / len(zero_distr)\n",
    "    \n",
    "    if alternative == 'less':\n",
    "        return sum([1. if x <= t_stat else 0. for x in zero_distr]) / len(zero_distr)\n",
    "\n",
    "    if alternative == 'greater':\n",
    "        return sum([1. if x >= t_stat else 0. for x in zero_distr]) / len(zero_distr)"
   ]
  },
  {
   "cell_type": "code",
   "execution_count": 98,
   "metadata": {
    "scrolled": true
   },
   "outputs": [
    {
     "name": "stdout",
     "output_type": "stream",
     "text": [
      "p-value: 0.444000\n"
     ]
    }
   ],
   "source": [
    "print(\"p-value: %f\" % permutation_test(price2001, price2002, max_permutations = 10000))"
   ]
  },
  {
   "cell_type": "code",
   "execution_count": 17,
   "metadata": {
    "scrolled": true
   },
   "outputs": [
    {
     "name": "stdout",
     "output_type": "stream",
     "text": [
      "p-value: 0.443200\n"
     ]
    }
   ],
   "source": [
    "print(\"p-value: %f\" % permutation_test(price2001, price2002, max_permutations = 50000))"
   ]
  },
  {
   "cell_type": "code",
   "execution_count": null,
   "metadata": {},
   "outputs": [],
   "source": []
  },
  {
   "cell_type": "code",
   "execution_count": null,
   "metadata": {},
   "outputs": [],
   "source": []
  },
  {
   "cell_type": "code",
   "execution_count": 11,
   "metadata": {},
   "outputs": [
    {
     "data": {
      "text/plain": [
       "MannwhitneyuResult(statistic=81.0, pvalue=0.02900499272087373)"
      ]
     },
     "execution_count": 11,
     "metadata": {},
     "output_type": "execute_result"
    }
   ],
   "source": [
    "a = np.array([22,22,15,13,19,19,18,20,21,13,13,15])\n",
    "b = np.array([17,18,18,15,12,4,14,15,10])\n",
    "stats.mannwhitneyu(a, b, alternative='greater')"
   ]
  },
  {
   "cell_type": "code",
   "execution_count": 14,
   "metadata": {},
   "outputs": [],
   "source": [
    "data = pd.read_csv('challenger.txt', sep='\\t')"
   ]
  },
  {
   "cell_type": "code",
   "execution_count": 15,
   "metadata": {},
   "outputs": [
    {
     "data": {
      "text/html": [
       "<div>\n",
       "<style scoped>\n",
       "    .dataframe tbody tr th:only-of-type {\n",
       "        vertical-align: middle;\n",
       "    }\n",
       "\n",
       "    .dataframe tbody tr th {\n",
       "        vertical-align: top;\n",
       "    }\n",
       "\n",
       "    .dataframe thead th {\n",
       "        text-align: right;\n",
       "    }\n",
       "</style>\n",
       "<table border=\"1\" class=\"dataframe\">\n",
       "  <thead>\n",
       "    <tr style=\"text-align: right;\">\n",
       "      <th></th>\n",
       "      <th>Unnamed: 0</th>\n",
       "      <th>Temperature</th>\n",
       "      <th>Incident</th>\n",
       "    </tr>\n",
       "  </thead>\n",
       "  <tbody>\n",
       "    <tr>\n",
       "      <th>0</th>\n",
       "      <td>Apr12.81</td>\n",
       "      <td>18.9</td>\n",
       "      <td>0</td>\n",
       "    </tr>\n",
       "    <tr>\n",
       "      <th>1</th>\n",
       "      <td>Nov12.81</td>\n",
       "      <td>21.1</td>\n",
       "      <td>1</td>\n",
       "    </tr>\n",
       "    <tr>\n",
       "      <th>2</th>\n",
       "      <td>Mar22.82</td>\n",
       "      <td>20.6</td>\n",
       "      <td>0</td>\n",
       "    </tr>\n",
       "    <tr>\n",
       "      <th>3</th>\n",
       "      <td>Nov11.82</td>\n",
       "      <td>20.0</td>\n",
       "      <td>0</td>\n",
       "    </tr>\n",
       "    <tr>\n",
       "      <th>4</th>\n",
       "      <td>Apr04.83</td>\n",
       "      <td>19.4</td>\n",
       "      <td>0</td>\n",
       "    </tr>\n",
       "    <tr>\n",
       "      <th>5</th>\n",
       "      <td>Jun18.83</td>\n",
       "      <td>22.2</td>\n",
       "      <td>0</td>\n",
       "    </tr>\n",
       "    <tr>\n",
       "      <th>6</th>\n",
       "      <td>Aug30.83</td>\n",
       "      <td>22.8</td>\n",
       "      <td>0</td>\n",
       "    </tr>\n",
       "    <tr>\n",
       "      <th>7</th>\n",
       "      <td>Nov28.83</td>\n",
       "      <td>21.1</td>\n",
       "      <td>0</td>\n",
       "    </tr>\n",
       "    <tr>\n",
       "      <th>8</th>\n",
       "      <td>Feb03.84</td>\n",
       "      <td>13.9</td>\n",
       "      <td>1</td>\n",
       "    </tr>\n",
       "    <tr>\n",
       "      <th>9</th>\n",
       "      <td>Apr06.84</td>\n",
       "      <td>17.2</td>\n",
       "      <td>1</td>\n",
       "    </tr>\n",
       "    <tr>\n",
       "      <th>10</th>\n",
       "      <td>Aug30.84</td>\n",
       "      <td>21.1</td>\n",
       "      <td>1</td>\n",
       "    </tr>\n",
       "    <tr>\n",
       "      <th>11</th>\n",
       "      <td>Oct05.84</td>\n",
       "      <td>25.6</td>\n",
       "      <td>0</td>\n",
       "    </tr>\n",
       "    <tr>\n",
       "      <th>12</th>\n",
       "      <td>Nov08.84</td>\n",
       "      <td>19.4</td>\n",
       "      <td>0</td>\n",
       "    </tr>\n",
       "    <tr>\n",
       "      <th>13</th>\n",
       "      <td>Jan24.85</td>\n",
       "      <td>11.7</td>\n",
       "      <td>1</td>\n",
       "    </tr>\n",
       "    <tr>\n",
       "      <th>14</th>\n",
       "      <td>Apr12.85</td>\n",
       "      <td>19.4</td>\n",
       "      <td>0</td>\n",
       "    </tr>\n",
       "    <tr>\n",
       "      <th>15</th>\n",
       "      <td>Apr29.85</td>\n",
       "      <td>23.9</td>\n",
       "      <td>0</td>\n",
       "    </tr>\n",
       "    <tr>\n",
       "      <th>16</th>\n",
       "      <td>Jun17.85</td>\n",
       "      <td>21.1</td>\n",
       "      <td>0</td>\n",
       "    </tr>\n",
       "    <tr>\n",
       "      <th>17</th>\n",
       "      <td>Jul29.85</td>\n",
       "      <td>27.2</td>\n",
       "      <td>0</td>\n",
       "    </tr>\n",
       "    <tr>\n",
       "      <th>18</th>\n",
       "      <td>Aug27.85</td>\n",
       "      <td>24.4</td>\n",
       "      <td>0</td>\n",
       "    </tr>\n",
       "    <tr>\n",
       "      <th>19</th>\n",
       "      <td>Oct03.85</td>\n",
       "      <td>26.1</td>\n",
       "      <td>0</td>\n",
       "    </tr>\n",
       "    <tr>\n",
       "      <th>20</th>\n",
       "      <td>Oct30.85</td>\n",
       "      <td>23.9</td>\n",
       "      <td>1</td>\n",
       "    </tr>\n",
       "    <tr>\n",
       "      <th>21</th>\n",
       "      <td>Nov26.85</td>\n",
       "      <td>24.4</td>\n",
       "      <td>0</td>\n",
       "    </tr>\n",
       "    <tr>\n",
       "      <th>22</th>\n",
       "      <td>Jan12.86</td>\n",
       "      <td>14.4</td>\n",
       "      <td>1</td>\n",
       "    </tr>\n",
       "  </tbody>\n",
       "</table>\n",
       "</div>"
      ],
      "text/plain": [
       "   Unnamed: 0  Temperature  Incident\n",
       "0    Apr12.81         18.9         0\n",
       "1    Nov12.81         21.1         1\n",
       "2    Mar22.82         20.6         0\n",
       "3    Nov11.82         20.0         0\n",
       "4    Apr04.83         19.4         0\n",
       "5    Jun18.83         22.2         0\n",
       "6    Aug30.83         22.8         0\n",
       "7    Nov28.83         21.1         0\n",
       "8    Feb03.84         13.9         1\n",
       "9    Apr06.84         17.2         1\n",
       "10   Aug30.84         21.1         1\n",
       "11   Oct05.84         25.6         0\n",
       "12   Nov08.84         19.4         0\n",
       "13   Jan24.85         11.7         1\n",
       "14   Apr12.85         19.4         0\n",
       "15   Apr29.85         23.9         0\n",
       "16   Jun17.85         21.1         0\n",
       "17   Jul29.85         27.2         0\n",
       "18   Aug27.85         24.4         0\n",
       "19   Oct03.85         26.1         0\n",
       "20   Oct30.85         23.9         1\n",
       "21   Nov26.85         24.4         0\n",
       "22   Jan12.86         14.4         1"
      ]
     },
     "execution_count": 15,
     "metadata": {},
     "output_type": "execute_result"
    }
   ],
   "source": [
    "data"
   ]
  },
  {
   "cell_type": "code",
   "execution_count": 54,
   "metadata": {},
   "outputs": [
    {
     "data": {
      "text/plain": [
       "array([21.1, 13.9, 17.2, 21.1, 11.7, 23.9, 14.4])"
      ]
     },
     "execution_count": 54,
     "metadata": {},
     "output_type": "execute_result"
    }
   ],
   "source": [
    "data[data.Incident==1].Temperature.values"
   ]
  },
  {
   "cell_type": "code",
   "execution_count": 27,
   "metadata": {},
   "outputs": [],
   "source": [
    "def get_bootstrap_samples(data, n_samples):\n",
    "    indices = np.random.randint(0, len(data), (n_samples, len(data)))\n",
    "    samples = data[indices]\n",
    "    return samples"
   ]
  },
  {
   "cell_type": "code",
   "execution_count": 28,
   "metadata": {},
   "outputs": [],
   "source": [
    "def stat_intervals(stat, alpha):\n",
    "    boundaries = np.percentile(stat, [100 * alpha / 2., 100 * (1 - alpha / 2.)])\n",
    "    return boundaries"
   ]
  },
  {
   "cell_type": "code",
   "execution_count": 58,
   "metadata": {},
   "outputs": [],
   "source": [
    "np.random.seed(0)\n",
    "a = get_bootstrap_samples(data[data.Incident==1].Temperature.values, 1000)\n",
    "b = get_bootstrap_samples(data[data.Incident==0].Temperature.values, 1000)"
   ]
  },
  {
   "cell_type": "code",
   "execution_count": 59,
   "metadata": {},
   "outputs": [],
   "source": [
    "am = np.array([i.mean() for i in a])\n",
    "bm = np.array([i.mean() for i in b])"
   ]
  },
  {
   "cell_type": "code",
   "execution_count": 60,
   "metadata": {},
   "outputs": [
    {
     "data": {
      "text/plain": [
       "array([1.45040179, 8.06457589])"
      ]
     },
     "execution_count": 60,
     "metadata": {},
     "output_type": "execute_result"
    }
   ],
   "source": [
    "stat_intervals(bm - am, 0.05)"
   ]
  },
  {
   "cell_type": "code",
   "execution_count": 65,
   "metadata": {},
   "outputs": [],
   "source": [
    "np.random.seed(0)\n",
    "a = get_bootstrap_samples(data[data.Incident==1].Temperature.values, 1000)\n",
    "b = get_bootstrap_samples(data[data.Incident==0].Temperature.values, 1000)"
   ]
  },
  {
   "cell_type": "code",
   "execution_count": 66,
   "metadata": {},
   "outputs": [
    {
     "data": {
      "text/plain": [
       "array([[11.7, 23.9, 21.1, ..., 21.1, 21.1, 13.9],\n",
       "       [21.1, 23.9, 17.2, ..., 14.4, 21.1, 21.1],\n",
       "       [11.7, 17.2, 13.9, ..., 14.4, 21.1, 13.9],\n",
       "       ...,\n",
       "       [17.2, 21.1, 21.1, ..., 23.9, 11.7, 21.1],\n",
       "       [13.9, 21.1, 23.9, ..., 14.4, 11.7, 17.2],\n",
       "       [17.2, 13.9, 21.1, ..., 13.9, 14.4, 23.9]])"
      ]
     },
     "execution_count": 66,
     "metadata": {},
     "output_type": "execute_result"
    }
   ],
   "source": [
    "a"
   ]
  },
  {
   "cell_type": "code",
   "execution_count": 72,
   "metadata": {},
   "outputs": [
    {
     "data": {
      "text/plain": [
       "array([21.7625 , 22.40625, 21.78125, 22.10625, 22.68125, 22.9125 ,\n",
       "       22.1    , 21.61875, 21.575  , 22.15625, 21.03125, 23.06875,\n",
       "       21.5875 , 22.4625 , 21.83125, 21.75   , 22.14375, 22.3125 ,\n",
       "       22.04375, 21.85   , 23.84375, 22.35625, 21.725  , 22.5625 ,\n",
       "       22.21875, 22.73125, 21.93125, 22.93125, 21.29375, 22.0375 ,\n",
       "       21.14375, 22.7    , 22.35   , 21.13125, 21.425  , 23.0375 ,\n",
       "       23.10625, 23.76875, 22.28125, 22.6125 , 21.13125, 21.85625,\n",
       "       22.875  , 22.28125, 22.41875, 22.18125, 22.18125, 22.4875 ,\n",
       "       21.575  , 23.33125, 21.55625, 21.48125, 22.06875, 22.975  ,\n",
       "       21.425  , 23.04375, 22.38125, 22.9    , 23.4625 , 22.55   ,\n",
       "       22.     , 23.21875, 22.20625, 22.275  , 22.75625, 22.45625,\n",
       "       23.1125 , 22.14375, 21.975  , 22.65625, 22.9375 , 22.825  ,\n",
       "       21.49375, 22.4125 , 21.55   , 22.3875 , 22.975  , 23.15625,\n",
       "       22.51875, 22.41875, 23.1875 , 22.29375, 23.025  , 22.6625 ,\n",
       "       22.4875 , 23.29375, 22.44375, 22.1125 , 21.73125, 22.4875 ,\n",
       "       23.11875, 22.86875, 21.9    , 21.83125, 20.70625, 22.13125,\n",
       "       22.25   , 21.05625, 21.6375 , 22.58125, 22.325  , 23.01875,\n",
       "       22.35625, 21.48125, 22.     , 21.4875 , 22.06875, 21.6375 ,\n",
       "       21.625  , 21.6375 , 22.38125, 22.275  , 21.2625 , 22.6125 ,\n",
       "       21.4125 , 21.73125, 21.99375, 21.9375 , 21.38125, 22.59375,\n",
       "       22.425  , 21.86875, 22.16875, 22.55625, 21.88125, 22.9375 ,\n",
       "       22.075  , 22.41875, 21.5125 , 23.35   , 22.43125, 22.1125 ,\n",
       "       22.5625 , 21.275  , 21.96875, 21.325  , 21.8    , 22.2375 ,\n",
       "       22.16875, 22.9375 , 22.55625, 22.6875 , 21.75625, 22.18125,\n",
       "       22.54375, 21.93125, 21.7375 , 22.     , 22.63125, 21.9625 ,\n",
       "       23.05   , 21.4    , 22.8    , 22.59375, 22.1875 , 23.33125,\n",
       "       22.3625 , 21.65625, 22.38125, 22.53125, 22.9125 , 21.84375,\n",
       "       21.85625, 21.75625, 22.74375, 22.675  , 22.6875 , 21.6125 ,\n",
       "       22.99375, 22.63125, 23.0625 , 22.5125 , 22.73125, 22.04375,\n",
       "       22.175  , 22.45625, 21.63125, 22.5125 , 22.30625, 22.51875,\n",
       "       22.65   , 22.7625 , 21.1625 , 22.4875 , 21.475  , 23.00625,\n",
       "       22.3    , 21.975  , 22.75   , 22.5625 , 22.51875, 22.175  ,\n",
       "       22.04375, 22.65   , 22.63125, 22.24375, 21.28125, 23.01875,\n",
       "       22.40625, 23.00625, 20.76875, 21.96875, 21.41875, 23.43125,\n",
       "       22.06875, 21.89375, 23.53125, 21.85625, 22.7    , 23.19375,\n",
       "       22.23125, 22.075  , 22.525  , 22.76875, 22.84375, 22.59375,\n",
       "       22.075  , 22.63125, 21.58125, 23.075  , 23.39375, 22.04375,\n",
       "       22.76875, 22.44375, 22.18125, 21.48125, 22.85625, 22.7375 ,\n",
       "       21.45   , 22.5875 , 22.7625 , 20.96875, 22.70625, 21.575  ,\n",
       "       21.81875, 21.59375, 21.8    , 21.63125, 22.7625 , 22.88125,\n",
       "       23.23125, 22.91875, 22.3125 , 21.325  , 22.11875, 21.925  ,\n",
       "       21.69375, 22.00625, 22.89375, 21.925  , 22.4875 , 22.53125,\n",
       "       22.69375, 23.1375 , 22.3875 , 21.99375, 22.03125, 21.79375,\n",
       "       23.18125, 22.525  , 21.55625, 21.825  , 22.08125, 23.04375,\n",
       "       21.94375, 22.175  , 21.2375 , 22.41875, 21.35   , 22.51875,\n",
       "       21.75   , 21.925  , 23.2625 , 23.43125, 21.7625 , 21.525  ,\n",
       "       22.88125, 23.0875 , 22.00625, 22.41875, 23.73125, 21.3    ,\n",
       "       21.9    , 21.48125, 23.3875 , 21.58125, 21.     , 22.45   ,\n",
       "       22.4875 , 22.44375, 22.33125, 22.69375, 22.0375 , 22.38125,\n",
       "       22.1375 , 21.5125 , 21.8625 , 21.425  , 21.34375, 22.49375,\n",
       "       22.9    , 22.25   , 22.54375, 22.04375, 22.8125 , 22.50625,\n",
       "       21.10625, 22.34375, 23.29375, 22.4125 , 22.29375, 22.55625,\n",
       "       22.3125 , 21.1625 , 22.0375 , 22.975  , 22.28125, 20.81875,\n",
       "       21.5375 , 22.94375, 22.55625, 22.4125 , 23.6875 , 23.66875,\n",
       "       21.2875 , 21.86875, 22.48125, 22.775  , 21.8    , 23.49375,\n",
       "       21.98125, 23.21875, 21.4125 , 21.75   , 23.35625, 22.64375,\n",
       "       21.64375, 23.575  , 22.     , 22.45   , 23.175  , 23.28125,\n",
       "       22.55625, 21.175  , 22.3375 , 22.15625, 21.7625 , 22.16875,\n",
       "       22.59375, 22.18125, 23.14375, 22.8125 , 23.01875, 22.76875,\n",
       "       21.38125, 22.775  , 22.41875, 20.9125 , 22.76875, 23.425  ,\n",
       "       22.79375, 21.79375, 21.9125 , 22.51875, 21.55   , 22.6    ,\n",
       "       21.69375, 22.725  , 21.71875, 22.48125, 21.93125, 22.45   ,\n",
       "       21.45625, 22.7625 , 21.96875, 22.65625, 21.275  , 21.9625 ,\n",
       "       23.11875, 22.6875 , 21.6875 , 23.1875 , 21.9375 , 21.76875,\n",
       "       21.8625 , 21.45   , 22.66875, 21.23125, 23.35625, 22.3875 ,\n",
       "       22.15   , 22.075  , 20.9    , 21.0125 , 22.14375, 22.86875,\n",
       "       22.20625, 21.6125 , 22.4125 , 22.74375, 21.96875, 21.99375,\n",
       "       21.68125, 23.51875, 22.83125, 21.60625, 20.88125, 21.25625,\n",
       "       21.26875, 22.5875 , 23.56875, 22.9375 , 22.86875, 22.51875,\n",
       "       21.19375, 22.98125, 22.525  , 22.4125 , 22.1125 , 20.64375,\n",
       "       22.775  , 22.6625 , 22.26875, 22.20625, 21.86875, 22.49375,\n",
       "       22.375  , 21.775  , 21.0625 , 23.15   , 23.175  , 21.625  ,\n",
       "       22.525  , 23.1125 , 22.53125, 22.3125 , 22.45625, 21.55   ,\n",
       "       22.08125, 22.28125, 23.01875, 21.825  , 22.63125, 23.36875,\n",
       "       22.425  , 23.825  , 22.06875, 21.59375, 21.79375, 23.28125,\n",
       "       22.00625, 22.5125 , 21.39375, 21.2875 , 22.49375, 22.2875 ,\n",
       "       21.9625 , 22.41875, 22.76875, 22.78125, 22.59375, 22.4875 ,\n",
       "       21.55   , 21.9375 , 21.75   , 22.30625, 21.35   , 22.38125,\n",
       "       21.9125 , 22.     , 22.03125, 23.025  , 23.15   , 21.33125,\n",
       "       22.65625, 21.44375, 21.09375, 23.3625 , 23.70625, 23.0375 ,\n",
       "       22.55625, 23.675  , 22.28125, 23.48125, 22.0375 , 21.7875 ,\n",
       "       22.86875, 22.35625, 22.275  , 23.03125, 22.3125 , 22.03125,\n",
       "       22.2125 , 22.425  , 22.86875, 21.8625 , 20.9875 , 22.2125 ,\n",
       "       22.8    , 23.55   , 22.9375 , 22.625  , 22.23125, 21.90625,\n",
       "       22.6125 , 22.28125, 22.3    , 21.6    , 23.05   , 22.63125,\n",
       "       21.44375, 21.1625 , 21.75625, 22.73125, 22.175  , 21.725  ,\n",
       "       22.5    , 23.01875, 22.275  , 21.35   , 22.96875, 22.49375,\n",
       "       21.4375 , 22.7375 , 21.16875, 22.24375, 21.625  , 21.45   ,\n",
       "       22.74375, 22.38125, 21.26875, 23.5375 , 21.30625, 21.9375 ,\n",
       "       21.34375, 23.4    , 23.95   , 22.0875 , 21.65   , 22.15   ,\n",
       "       22.56875, 22.18125, 22.06875, 23.43125, 21.71875, 22.2125 ,\n",
       "       23.25625, 21.96875, 22.0625 , 22.975  , 21.96875, 22.45625,\n",
       "       22.0375 , 21.85625, 22.49375, 23.08125, 22.     , 23.16875,\n",
       "       22.84375, 22.15625, 21.75625, 22.4625 , 22.1375 , 22.6375 ,\n",
       "       20.75625, 22.31875, 22.55   , 22.94375, 21.90625, 22.3    ,\n",
       "       22.525  , 22.7    , 22.275  , 22.84375, 23.     , 22.63125,\n",
       "       22.16875, 22.55625, 22.3625 , 23.2125 , 22.49375, 22.28125,\n",
       "       23.90625, 22.45   , 22.59375, 22.725  , 22.25   , 21.84375,\n",
       "       21.55   , 21.81875, 22.425  , 21.8    , 21.65   , 23.19375,\n",
       "       21.43125, 22.80625, 23.525  , 21.825  , 22.70625, 21.80625,\n",
       "       22.2    , 22.85   , 21.81875, 21.79375, 23.0125 , 22.61875,\n",
       "       21.9    , 22.2875 , 22.53125, 22.3375 , 21.275  , 21.83125,\n",
       "       22.34375, 23.2625 , 22.06875, 22.25625, 22.55   , 22.78125,\n",
       "       22.0375 , 22.39375, 22.7375 , 21.825  , 22.73125, 22.64375,\n",
       "       21.2625 , 21.86875, 22.83125, 22.975  , 21.38125, 22.80625,\n",
       "       22.03125, 22.03125, 22.875  , 21.275  , 21.94375, 23.11875,\n",
       "       24.18125, 21.975  , 21.625  , 23.1125 , 23.31875, 23.00625,\n",
       "       22.325  , 21.725  , 21.93125, 22.60625, 22.58125, 21.26875,\n",
       "       23.25625, 21.9    , 22.55625, 21.40625, 22.1    , 22.0625 ,\n",
       "       22.21875, 20.71875, 21.5125 , 23.35625, 21.26875, 23.425  ,\n",
       "       23.31875, 22.19375, 22.74375, 21.75625, 21.28125, 21.65   ,\n",
       "       21.575  , 21.4125 , 21.5875 , 22.8375 , 21.975  , 21.975  ,\n",
       "       21.26875, 22.325  , 22.     , 22.8375 , 24.575  , 23.59375,\n",
       "       22.91875, 21.5875 , 21.20625, 23.075  , 21.9    , 22.14375,\n",
       "       23.8125 , 22.51875, 21.8625 , 22.5    , 21.5875 , 22.5    ,\n",
       "       22.1    , 22.46875, 22.75625, 22.8    , 23.19375, 21.54375,\n",
       "       21.81875, 21.6625 , 22.3875 , 21.875  , 21.69375, 22.93125,\n",
       "       22.5875 , 22.18125, 22.70625, 22.7    , 22.35625, 21.6875 ,\n",
       "       22.04375, 22.11875, 21.5125 , 21.1375 , 23.60625, 22.4625 ,\n",
       "       21.6125 , 23.49375, 22.14375, 21.69375, 22.2375 , 22.2125 ,\n",
       "       23.775  , 21.83125, 22.25   , 23.225  , 21.30625, 22.43125,\n",
       "       22.9875 , 23.26875, 22.25   , 22.06875, 23.275  , 23.84375,\n",
       "       23.2625 , 23.0125 , 23.1875 , 22.1125 , 22.7    , 22.2125 ,\n",
       "       22.56875, 23.14375, 22.1875 , 22.35   , 22.65625, 22.55625,\n",
       "       22.00625, 22.65   , 22.7625 , 21.7125 , 22.4625 , 22.16875,\n",
       "       21.56875, 23.11875, 22.53125, 22.35   , 22.04375, 22.61875,\n",
       "       22.34375, 22.49375, 21.36875, 22.04375, 23.425  , 22.40625,\n",
       "       21.79375, 23.7    , 22.63125, 21.475  , 22.2125 , 22.00625,\n",
       "       22.24375, 22.725  , 22.3875 , 22.21875, 21.8    , 21.825  ,\n",
       "       22.3875 , 21.51875, 22.8    , 22.63125, 21.75625, 21.64375,\n",
       "       21.825  , 22.21875, 22.56875, 22.24375, 22.38125, 22.3125 ,\n",
       "       22.88125, 22.69375, 22.38125, 22.525  , 21.75625, 21.89375,\n",
       "       22.28125, 22.0375 , 22.4625 , 21.55625, 21.01875, 22.6375 ,\n",
       "       22.38125, 22.46875, 22.41875, 21.55   , 22.5625 , 22.83125,\n",
       "       22.875  , 21.91875, 20.84375, 22.1875 , 21.875  , 21.9375 ,\n",
       "       22.45625, 22.06875, 22.31875, 23.0875 , 21.44375, 21.65   ,\n",
       "       22.54375, 22.34375, 23.94375, 21.4875 , 22.76875, 22.0125 ,\n",
       "       22.35   , 23.15625, 22.4875 , 22.1375 , 21.     , 21.25   ,\n",
       "       22.3875 , 22.6375 , 22.1125 , 22.4125 , 21.9    , 22.31875,\n",
       "       21.56875, 22.5375 , 21.975  , 21.25625, 23.29375, 21.8625 ,\n",
       "       22.35   , 21.49375, 21.4875 , 22.85625, 22.98125, 22.76875,\n",
       "       22.73125, 23.45625, 22.44375, 22.775  , 22.49375, 22.525  ,\n",
       "       21.90625, 22.03125, 22.     , 21.90625, 21.90625, 22.425  ,\n",
       "       21.3375 , 22.28125, 22.45   , 22.91875, 22.21875, 22.9375 ,\n",
       "       23.0125 , 22.15   , 22.00625, 21.8    , 22.6375 , 22.05   ,\n",
       "       22.49375, 22.06875, 22.65625, 22.20625, 23.70625, 22.0375 ,\n",
       "       22.55   , 22.2375 , 21.2125 , 23.73125, 23.05625, 22.00625,\n",
       "       22.1125 , 22.6375 , 23.675  , 23.39375, 21.73125, 21.61875,\n",
       "       23.41875, 22.5    , 21.375  , 21.36875, 22.08125, 21.7875 ,\n",
       "       21.44375, 22.23125, 21.2    , 23.21875, 22.3875 , 22.55625,\n",
       "       21.79375, 21.5    , 22.69375, 21.7125 , 22.1375 , 21.4625 ,\n",
       "       21.9625 , 22.25   , 21.7625 , 21.8625 , 22.06875, 21.725  ,\n",
       "       21.3625 , 22.35   , 23.00625, 21.54375, 22.7    , 22.29375,\n",
       "       22.1    , 22.4625 , 22.325  , 22.975  , 22.025  , 22.76875,\n",
       "       22.05625, 21.79375, 21.51875, 21.54375, 22.7    , 22.5875 ,\n",
       "       22.0625 , 22.20625, 21.9    , 21.925  , 21.61875, 22.56875,\n",
       "       21.975  , 21.5125 , 22.725  , 21.96875, 21.8875 , 21.5625 ,\n",
       "       22.1875 , 22.30625, 22.2375 , 22.3125 , 21.75625, 21.59375,\n",
       "       22.14375, 22.0125 , 23.575  , 22.74375, 22.31875, 21.65625,\n",
       "       22.36875, 22.175  , 21.79375, 22.56875, 20.7125 , 21.625  ,\n",
       "       22.5875 , 22.90625, 22.73125, 21.86875, 21.51875, 22.1375 ,\n",
       "       22.325  , 23.3125 , 22.89375, 22.8375 , 22.75625, 23.1875 ,\n",
       "       23.04375, 22.94375, 22.7625 , 22.0875 , 22.425  , 22.4125 ,\n",
       "       22.0375 , 23.28125, 23.1875 , 22.825  , 22.35625, 22.9625 ,\n",
       "       23.0875 , 22.5625 , 21.725  , 23.11875, 22.28125, 21.4    ,\n",
       "       21.51875, 21.7    , 21.51875, 22.4875 , 22.31875, 22.6625 ,\n",
       "       22.90625, 22.41875, 22.94375, 22.46875])"
      ]
     },
     "execution_count": 72,
     "metadata": {},
     "output_type": "execute_result"
    }
   ],
   "source": [
    "bm"
   ]
  },
  {
   "cell_type": "code",
   "execution_count": 104,
   "metadata": {},
   "outputs": [
    {
     "ename": "IndexError",
     "evalue": "index 1725 is out of bounds for axis 0 with size 1000",
     "output_type": "error",
     "traceback": [
      "\u001b[0;31m---------------------------------------------------------------------------\u001b[0m",
      "\u001b[0;31mIndexError\u001b[0m                                Traceback (most recent call last)",
      "\u001b[0;32m<ipython-input-104-8b67e47e3a8d>\u001b[0m in \u001b[0;36m<module>\u001b[0;34m\u001b[0m\n\u001b[1;32m      1\u001b[0m \u001b[0mnp\u001b[0m\u001b[0;34m.\u001b[0m\u001b[0mrandom\u001b[0m\u001b[0;34m.\u001b[0m\u001b[0mseed\u001b[0m\u001b[0;34m(\u001b[0m\u001b[0;36m0\u001b[0m\u001b[0;34m)\u001b[0m\u001b[0;34m\u001b[0m\u001b[0;34m\u001b[0m\u001b[0m\n\u001b[0;32m----> 2\u001b[0;31m \u001b[0mpermutation_test\u001b[0m\u001b[0;34m(\u001b[0m\u001b[0ma\u001b[0m\u001b[0;34m,\u001b[0m \u001b[0mb\u001b[0m\u001b[0;34m,\u001b[0m \u001b[0mmax_permutations\u001b[0m\u001b[0;34m=\u001b[0m\u001b[0;36m10000\u001b[0m\u001b[0;34m)\u001b[0m\u001b[0;34m\u001b[0m\u001b[0;34m\u001b[0m\u001b[0m\n\u001b[0m",
      "\u001b[0;32m<ipython-input-89-898fc7a41ac2>\u001b[0m in \u001b[0;36mpermutation_test\u001b[0;34m(sample, mean, max_permutations, alternative)\u001b[0m\n\u001b[1;32m      6\u001b[0m     \u001b[0mt_stat\u001b[0m \u001b[0;34m=\u001b[0m \u001b[0mpermutation_t_stat_ind\u001b[0m\u001b[0;34m(\u001b[0m\u001b[0msample\u001b[0m\u001b[0;34m,\u001b[0m \u001b[0mmean\u001b[0m\u001b[0;34m)\u001b[0m\u001b[0;34m\u001b[0m\u001b[0;34m\u001b[0m\u001b[0m\n\u001b[1;32m      7\u001b[0m \u001b[0;34m\u001b[0m\u001b[0m\n\u001b[0;32m----> 8\u001b[0;31m     \u001b[0mzero_distr\u001b[0m \u001b[0;34m=\u001b[0m \u001b[0mpermutation_zero_dist_ind\u001b[0m\u001b[0;34m(\u001b[0m\u001b[0msample\u001b[0m\u001b[0;34m,\u001b[0m \u001b[0mmean\u001b[0m\u001b[0;34m,\u001b[0m \u001b[0mmax_permutations\u001b[0m\u001b[0;34m)\u001b[0m\u001b[0;34m\u001b[0m\u001b[0;34m\u001b[0m\u001b[0m\n\u001b[0m\u001b[1;32m      9\u001b[0m \u001b[0;34m\u001b[0m\u001b[0m\n\u001b[1;32m     10\u001b[0m     \u001b[0;32mif\u001b[0m \u001b[0malternative\u001b[0m \u001b[0;34m==\u001b[0m \u001b[0;34m'two-sided'\u001b[0m\u001b[0;34m:\u001b[0m\u001b[0;34m\u001b[0m\u001b[0;34m\u001b[0m\u001b[0m\n",
      "\u001b[0;32m<ipython-input-87-ce4d2ae90e73>\u001b[0m in \u001b[0;36mpermutation_zero_dist_ind\u001b[0;34m(sample1, sample2, max_combinations)\u001b[0m\n\u001b[1;32m     10\u001b[0m                     for index in itertools.combinations(range(n), n1)]\n\u001b[1;32m     11\u001b[0m \u001b[0;34m\u001b[0m\u001b[0m\n\u001b[0;32m---> 12\u001b[0;31m     distr = [joined_sample[list(i[0])].mean() - joined_sample[list(i[1])].mean() \\\n\u001b[0m\u001b[1;32m     13\u001b[0m              for i in indices]\n\u001b[1;32m     14\u001b[0m     \u001b[0;32mreturn\u001b[0m \u001b[0mdistr\u001b[0m\u001b[0;34m\u001b[0m\u001b[0;34m\u001b[0m\u001b[0m\n",
      "\u001b[0;32m<ipython-input-87-ce4d2ae90e73>\u001b[0m in \u001b[0;36m<listcomp>\u001b[0;34m(.0)\u001b[0m\n\u001b[1;32m     10\u001b[0m                     for index in itertools.combinations(range(n), n1)]\n\u001b[1;32m     11\u001b[0m \u001b[0;34m\u001b[0m\u001b[0m\n\u001b[0;32m---> 12\u001b[0;31m     distr = [joined_sample[list(i[0])].mean() - joined_sample[list(i[1])].mean() \\\n\u001b[0m\u001b[1;32m     13\u001b[0m              for i in indices]\n\u001b[1;32m     14\u001b[0m     \u001b[0;32mreturn\u001b[0m \u001b[0mdistr\u001b[0m\u001b[0;34m\u001b[0m\u001b[0;34m\u001b[0m\u001b[0m\n",
      "\u001b[0;31mIndexError\u001b[0m: index 1725 is out of bounds for axis 0 with size 1000"
     ]
    }
   ],
   "source": [
    "np.random.seed(0)\n",
    "permutation_test(a, b, max_permutations=10000)"
   ]
  },
  {
   "cell_type": "code",
   "execution_count": null,
   "metadata": {},
   "outputs": [],
   "source": []
  }
 ],
 "metadata": {
  "kernelspec": {
   "display_name": "Python 3",
   "language": "python",
   "name": "python3"
  },
  "language_info": {
   "codemirror_mode": {
    "name": "ipython",
    "version": 3
   },
   "file_extension": ".py",
   "mimetype": "text/x-python",
   "name": "python",
   "nbconvert_exporter": "python",
   "pygments_lexer": "ipython3",
   "version": "3.8.8"
  }
 },
 "nbformat": 4,
 "nbformat_minor": 1
}
